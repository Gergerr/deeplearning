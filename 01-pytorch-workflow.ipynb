{
 "cells": [
  {
   "cell_type": "markdown",
   "id": "0a7e2076",
   "metadata": {
    "_cell_guid": "b1076dfc-b9ad-4769-8c92-a6c4dae69d19",
    "_uuid": "8f2839f25d086af736a60e9eeb907d3b93b6e0e5",
    "papermill": {
     "duration": 0.003358,
     "end_time": "2024-03-02T10:23:21.531370",
     "exception": false,
     "start_time": "2024-03-02T10:23:21.528012",
     "status": "completed"
    },
    "tags": []
   },
   "source": [
    "# Pytorch Workflow\n",
    "\n",
    "Exploring an example of pytorch end-to-end workflow\n",
    "\n",
    "Resources:\n",
    "* https://www.learnpytorch.io/01_pytorch_workflow/\n",
    "* https://github.com/mrdbourke/pytorch-deep-learning/blob/main/01_pytorch_workflow.ipynb"
   ]
  },
  {
   "cell_type": "code",
   "execution_count": 1,
   "id": "59e6e64d",
   "metadata": {
    "execution": {
     "iopub.execute_input": "2024-03-02T10:23:21.540398Z",
     "iopub.status.busy": "2024-03-02T10:23:21.539217Z",
     "iopub.status.idle": "2024-03-02T10:23:21.556126Z",
     "shell.execute_reply": "2024-03-02T10:23:21.554768Z"
    },
    "papermill": {
     "duration": 0.024458,
     "end_time": "2024-03-02T10:23:21.558903",
     "exception": false,
     "start_time": "2024-03-02T10:23:21.534445",
     "status": "completed"
    },
    "tags": []
   },
   "outputs": [
    {
     "data": {
      "text/plain": [
       "{1: 'data (prepare and load)',\n",
       " 2: 'build model',\n",
       " 3: 'fitting the model to data (training)',\n",
       " 4: 'making predictions and evaluating a model (inference)',\n",
       " 5: 'saving and loading a model',\n",
       " 6: 'putting it all together'}"
      ]
     },
     "execution_count": 1,
     "metadata": {},
     "output_type": "execute_result"
    }
   ],
   "source": [
    "what_were_covering = {1: \"data (prepare and load)\",\n",
    "    2: \"build model\",\n",
    "    3: \"fitting the model to data (training)\",\n",
    "    4: \"making predictions and evaluating a model (inference)\",\n",
    "    5: \"saving and loading a model\",\n",
    "    6: \"putting it all together\"\n",
    "}\n",
    "what_were_covering"
   ]
  },
  {
   "cell_type": "code",
   "execution_count": 2,
   "id": "d40c7d81",
   "metadata": {
    "execution": {
     "iopub.execute_input": "2024-03-02T10:23:21.568080Z",
     "iopub.status.busy": "2024-03-02T10:23:21.567649Z",
     "iopub.status.idle": "2024-03-02T10:23:24.928065Z",
     "shell.execute_reply": "2024-03-02T10:23:24.926719Z"
    },
    "papermill": {
     "duration": 3.367963,
     "end_time": "2024-03-02T10:23:24.930668",
     "exception": false,
     "start_time": "2024-03-02T10:23:21.562705",
     "status": "completed"
    },
    "tags": []
   },
   "outputs": [
    {
     "data": {
      "text/plain": [
       "'2.1.2+cpu'"
      ]
     },
     "execution_count": 2,
     "metadata": {},
     "output_type": "execute_result"
    }
   ],
   "source": [
    "import torch\n",
    "from torch import nn # Contains all PyTorch building blocks for neural network\n",
    "import matplotlib.pyplot as plt\n",
    "\n",
    "torch.__version__"
   ]
  },
  {
   "cell_type": "markdown",
   "id": "60f6757a",
   "metadata": {
    "papermill": {
     "duration": 0.003051,
     "end_time": "2024-03-02T10:23:24.937072",
     "exception": false,
     "start_time": "2024-03-02T10:23:24.934021",
     "status": "completed"
    },
    "tags": []
   },
   "source": [
    "## 1. Data (preparing and loading)\n",
    "Data can be everything, especially in ML\n",
    "\n",
    "* Spreadhseet\n",
    "* Images\n",
    "* Videos (Youtube, etc)\n",
    "* Audio\n",
    "* DNA\n",
    "* Text\n",
    "\n",
    "ML is a game of 2 parts:\n",
    "1. Get data into a numerical representation\n",
    "2. Build a model to learn patterns in that numerical representation\n",
    "\n",
    "To do a demonstration, lets create *known* data using linear regression formula\n",
    "\n",
    "We'll use a linear regression formula to make a straight line with known parameters"
   ]
  },
  {
   "cell_type": "code",
   "execution_count": 3,
   "id": "2a608c38",
   "metadata": {
    "execution": {
     "iopub.execute_input": "2024-03-02T10:23:24.945128Z",
     "iopub.status.busy": "2024-03-02T10:23:24.944673Z",
     "iopub.status.idle": "2024-03-02T10:23:25.072060Z",
     "shell.execute_reply": "2024-03-02T10:23:25.070515Z"
    },
    "papermill": {
     "duration": 0.13482,
     "end_time": "2024-03-02T10:23:25.074961",
     "exception": false,
     "start_time": "2024-03-02T10:23:24.940141",
     "status": "completed"
    },
    "tags": []
   },
   "outputs": [
    {
     "data": {
      "text/plain": [
       "(tensor([[0.0000],\n",
       "         [0.0200],\n",
       "         [0.0400],\n",
       "         [0.0600],\n",
       "         [0.0800],\n",
       "         [0.1000],\n",
       "         [0.1200],\n",
       "         [0.1400],\n",
       "         [0.1600],\n",
       "         [0.1800]]),\n",
       " tensor([[0.3000],\n",
       "         [0.3140],\n",
       "         [0.3280],\n",
       "         [0.3420],\n",
       "         [0.3560],\n",
       "         [0.3700],\n",
       "         [0.3840],\n",
       "         [0.3980],\n",
       "         [0.4120],\n",
       "         [0.4260]]))"
      ]
     },
     "execution_count": 3,
     "metadata": {},
     "output_type": "execute_result"
    }
   ],
   "source": [
    "# Create known parameters\n",
    "weight= 0.7\n",
    "bias= 0.3\n",
    "\n",
    "# Create data\n",
    "start= 0\n",
    "end= 1\n",
    "step= 0.02\n",
    "X= torch.arange(start, end, step).unsqueeze(dim= 1) # Remember that unsqueeze add an extra dim\n",
    "y= weight* X+ bias\n",
    "\n",
    "X[:10], y[:10]"
   ]
  },
  {
   "cell_type": "code",
   "execution_count": 4,
   "id": "cec39a4d",
   "metadata": {
    "execution": {
     "iopub.execute_input": "2024-03-02T10:23:25.085407Z",
     "iopub.status.busy": "2024-03-02T10:23:25.084900Z",
     "iopub.status.idle": "2024-03-02T10:23:25.096973Z",
     "shell.execute_reply": "2024-03-02T10:23:25.095540Z"
    },
    "papermill": {
     "duration": 0.021581,
     "end_time": "2024-03-02T10:23:25.100269",
     "exception": false,
     "start_time": "2024-03-02T10:23:25.078688",
     "status": "completed"
    },
    "tags": []
   },
   "outputs": [
    {
     "name": "stdout",
     "output_type": "stream",
     "text": [
      "50 50\n",
      "==================================================\n"
     ]
    },
    {
     "data": {
      "text/plain": [
       "(40, 40, 10, 10)"
      ]
     },
     "execution_count": 4,
     "metadata": {},
     "output_type": "execute_result"
    }
   ],
   "source": [
    "# Create a train/test split\n",
    "train_split= int(0.8*len(X))\n",
    "X_train, y_train= X[:train_split], y[:train_split]\n",
    "X_test, y_test= X[train_split:], y[train_split:]\n",
    "print(len(X), len(y))\n",
    "print('=='*25)\n",
    "len(X_train), len(y_train), len(X_test), len(y_test)"
   ]
  },
  {
   "cell_type": "code",
   "execution_count": 5,
   "id": "492640e9",
   "metadata": {
    "execution": {
     "iopub.execute_input": "2024-03-02T10:23:25.110417Z",
     "iopub.status.busy": "2024-03-02T10:23:25.110000Z",
     "iopub.status.idle": "2024-03-02T10:23:25.118630Z",
     "shell.execute_reply": "2024-03-02T10:23:25.117272Z"
    },
    "papermill": {
     "duration": 0.016666,
     "end_time": "2024-03-02T10:23:25.121039",
     "exception": false,
     "start_time": "2024-03-02T10:23:25.104373",
     "status": "completed"
    },
    "tags": []
   },
   "outputs": [],
   "source": [
    "# Visualizing data\n",
    "def plot_predictions(train_data= X_train,\n",
    "                    train_labels= y_train,\n",
    "                    test_data= X_test,\n",
    "                    test_labels= y_test,\n",
    "                    predictions= None):\n",
    "    \n",
    "    \"\"\"\n",
    "    Plots training data, test data, and compares predictions.\n",
    "    \"\"\"\n",
    "    plt.figure(figsize= (10, 7))\n",
    "    \n",
    "    # Plotting training data in blue\n",
    "    plt.scatter(train_data, train_labels, c= 'b', s= 4, label= 'Training data')\n",
    "    \n",
    "    # PLotting test data in green\n",
    "    plt.scatter(test_data, test_labels, c='g', s= 4, label= 'Testing Data')\n",
    "    \n",
    "    # Is there predictions?\n",
    "    if predictions is not None:\n",
    "        # Plotting prediction if exist\n",
    "        plt.scatter(test_data, predictions, c='r', s=4, label= 'Predictions')\n",
    "    \n",
    "    plt.legend(prop= {'size': 14})\n",
    "        "
   ]
  },
  {
   "cell_type": "code",
   "execution_count": 6,
   "id": "ff97b9dc",
   "metadata": {
    "execution": {
     "iopub.execute_input": "2024-03-02T10:23:25.132604Z",
     "iopub.status.busy": "2024-03-02T10:23:25.131328Z",
     "iopub.status.idle": "2024-03-02T10:23:25.520665Z",
     "shell.execute_reply": "2024-03-02T10:23:25.519510Z"
    },
    "papermill": {
     "duration": 0.398477,
     "end_time": "2024-03-02T10:23:25.524182",
     "exception": false,
     "start_time": "2024-03-02T10:23:25.125705",
     "status": "completed"
    },
    "tags": []
   },
   "outputs": [
    {
     "data": {
      "image/png": "[encoded data removed]",
      "text/plain": [
       "<Figure size 1000x700 with 1 Axes>"
      ]
     },
     "metadata": {},
     "output_type": "display_data"
    }
   ],
   "source": [
    "plot_predictions()"
   ]
  },
  {
   "cell_type": "code",
   "execution_count": null,
   "id": "17ca6d8e",
   "metadata": {
    "papermill": {
     "duration": 0.003952,
     "end_time": "2024-03-02T10:23:25.532764",
     "exception": false,
     "start_time": "2024-03-02T10:23:25.528812",
     "status": "completed"
    },
    "tags": []
   },
   "outputs": [],
   "source": []
  }
 ],
 "metadata": {
  "kaggle": {
   "accelerator": "none",
   "dataSources": [],
   "dockerImageVersionId": 30664,
   "isGpuEnabled": false,
   "isInternetEnabled": true,
   "language": "python",
   "sourceType": "notebook"
  },
  "kernelspec": {
   "display_name": "Python 3",
   "language": "python",
   "name": "python3"
  },
  "language_info": {
   "codemirror_mode": {
    "name": "ipython",
    "version": 3
   },
   "file_extension": ".py",
   "mimetype": "text/x-python",
   "name": "python",
   "nbconvert_exporter": "python",
   "pygments_lexer": "ipython3",
   "version": "3.10.13"
  },
  "papermill": {
   "default_parameters": {},
   "duration": 8.076243,
   "end_time": "2024-03-02T10:23:26.462663",
   "environment_variables": {},
   "exception": null,
   "input_path": "__notebook__.ipynb",
   "output_path": "__notebook__.ipynb",
   "parameters": {},
   "start_time": "2024-03-02T10:23:18.386420",
   "version": "2.5.0"
  }
 },
 "nbformat": 4,
 "nbformat_minor": 5
}
