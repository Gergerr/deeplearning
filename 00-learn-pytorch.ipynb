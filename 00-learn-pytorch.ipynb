{
 "cells": [
  {
   "cell_type": "code",
   "execution_count": 1,
   "id": "bde495c7",
   "metadata": {
    "execution": {
     "iopub.execute_input": "2024-03-02T07:25:43.503109Z",
     "iopub.status.busy": "2024-03-02T07:25:43.501792Z",
     "iopub.status.idle": "2024-03-02T07:25:48.485933Z",
     "shell.execute_reply": "2024-03-02T07:25:48.484783Z"
    },
    "id": "NfIKMmO8DK3E",
    "papermill": {
     "duration": 5.016193,
     "end_time": "2024-03-02T07:25:48.488999",
     "exception": false,
     "start_time": "2024-03-02T07:25:43.472806",
     "status": "completed"
    },
    "tags": []
   },
   "outputs": [],
   "source": [
    "import torch\n",
    "import pandas as pd\n",
    "import numpy as np\n",
    "import matplotlib.pyplot as plt"
   ]
  },
  {
   "cell_type": "code",
   "execution_count": 2,
   "id": "b05d5116",
   "metadata": {
    "execution": {
     "iopub.execute_input": "2024-03-02T07:25:48.546452Z",
     "iopub.status.busy": "2024-03-02T07:25:48.545355Z",
     "iopub.status.idle": "2024-03-02T07:25:48.552975Z",
     "shell.execute_reply": "2024-03-02T07:25:48.551048Z"
    },
    "id": "y3Y_KM-LDmTI",
    "outputId": "08da3614-6a1d-4720-852c-412c78693a16",
    "papermill": {
     "duration": 0.040014,
     "end_time": "2024-03-02T07:25:48.556146",
     "exception": false,
     "start_time": "2024-03-02T07:25:48.516132",
     "status": "completed"
    },
    "tags": []
   },
   "outputs": [
    {
     "name": "stdout",
     "output_type": "stream",
     "text": [
      "2.1.2+cpu\n"
     ]
    }
   ],
   "source": [
    "print(torch.__version__)"
   ]
  },
  {
   "cell_type": "markdown",
   "id": "83a03fd2",
   "metadata": {
    "id": "vXzOIvcRDoQ4",
    "papermill": {
     "duration": 0.026321,
     "end_time": "2024-03-02T07:25:48.608847",
     "exception": false,
     "start_time": "2024-03-02T07:25:48.582526",
     "status": "completed"
    },
    "tags": []
   },
   "source": [
    "# Intro to tensor\n"
   ]
  },
  {
   "cell_type": "markdown",
   "id": "8565f94a",
   "metadata": {
    "id": "ttgBwVAbD_Dl",
    "papermill": {
     "duration": 0.025669,
     "end_time": "2024-03-02T07:25:48.660621",
     "exception": false,
     "start_time": "2024-03-02T07:25:48.634952",
     "status": "completed"
    },
    "tags": []
   },
   "source": [
    "## Creating Tensor"
   ]
  },
  {
   "cell_type": "code",
   "execution_count": 3,
   "id": "d3736376",
   "metadata": {
    "execution": {
     "iopub.execute_input": "2024-03-02T07:25:48.714872Z",
     "iopub.status.busy": "2024-03-02T07:25:48.714420Z",
     "iopub.status.idle": "2024-03-02T07:25:48.767674Z",
     "shell.execute_reply": "2024-03-02T07:25:48.766234Z"
    },
    "id": "-fL7d1PGD5DP",
    "outputId": "32a355aa-ed94-4da3-d57a-ea1e208beecb",
    "papermill": {
     "duration": 0.083717,
     "end_time": "2024-03-02T07:25:48.770457",
     "exception": false,
     "start_time": "2024-03-02T07:25:48.686740",
     "status": "completed"
    },
    "tags": []
   },
   "outputs": [
    {
     "data": {
      "text/plain": [
       "tensor(7)"
      ]
     },
     "execution_count": 3,
     "metadata": {},
     "output_type": "execute_result"
    }
   ],
   "source": [
    "scalar= torch.tensor(7)\n",
    "scalar"
   ]
  },
  {
   "cell_type": "code",
   "execution_count": 4,
   "id": "79f6e047",
   "metadata": {
    "execution": {
     "iopub.execute_input": "2024-03-02T07:25:48.825382Z",
     "iopub.status.busy": "2024-03-02T07:25:48.824906Z",
     "iopub.status.idle": "2024-03-02T07:25:48.832485Z",
     "shell.execute_reply": "2024-03-02T07:25:48.831389Z"
    },
    "id": "z2mky0bGFCmR",
    "outputId": "2d1e654f-842c-461e-b72f-769b1d273b43",
    "papermill": {
     "duration": 0.037951,
     "end_time": "2024-03-02T07:25:48.835061",
     "exception": false,
     "start_time": "2024-03-02T07:25:48.797110",
     "status": "completed"
    },
    "tags": []
   },
   "outputs": [
    {
     "data": {
      "text/plain": [
       "0"
      ]
     },
     "execution_count": 4,
     "metadata": {},
     "output_type": "execute_result"
    }
   ],
   "source": [
    "scalar.ndim"
   ]
  },
  {
   "cell_type": "code",
   "execution_count": 5,
   "id": "86ed51a5",
   "metadata": {
    "execution": {
     "iopub.execute_input": "2024-03-02T07:25:48.891441Z",
     "iopub.status.busy": "2024-03-02T07:25:48.890058Z",
     "iopub.status.idle": "2024-03-02T07:25:48.897946Z",
     "shell.execute_reply": "2024-03-02T07:25:48.896983Z"
    },
    "id": "n5ECmCs9FmcS",
    "outputId": "3a0b51f4-431f-4abd-c845-287cd6c6caa1",
    "papermill": {
     "duration": 0.038826,
     "end_time": "2024-03-02T07:25:48.900593",
     "exception": false,
     "start_time": "2024-03-02T07:25:48.861767",
     "status": "completed"
    },
    "tags": []
   },
   "outputs": [
    {
     "data": {
      "text/plain": [
       "7"
      ]
     },
     "execution_count": 5,
     "metadata": {},
     "output_type": "execute_result"
    }
   ],
   "source": [
    "# Get the tensor as an Python int\n",
    "scalar.item()"
   ]
  },
  {
   "cell_type": "code",
   "execution_count": 6,
   "id": "9d7c1312",
   "metadata": {
    "execution": {
     "iopub.execute_input": "2024-03-02T07:25:48.955902Z",
     "iopub.status.busy": "2024-03-02T07:25:48.955198Z",
     "iopub.status.idle": "2024-03-02T07:25:48.966007Z",
     "shell.execute_reply": "2024-03-02T07:25:48.964796Z"
    },
    "id": "aQ1EZ03iFoii",
    "outputId": "efaee142-2c33-4b7e-9018-2f68a5764c78",
    "papermill": {
     "duration": 0.04158,
     "end_time": "2024-03-02T07:25:48.968789",
     "exception": false,
     "start_time": "2024-03-02T07:25:48.927209",
     "status": "completed"
    },
    "tags": []
   },
   "outputs": [
    {
     "data": {
      "text/plain": [
       "tensor([7, 7])"
      ]
     },
     "execution_count": 6,
     "metadata": {},
     "output_type": "execute_result"
    }
   ],
   "source": [
    "# Vector\n",
    "vector= torch.tensor([7, 7])\n",
    "vector"
   ]
  },
  {
   "cell_type": "code",
   "execution_count": 7,
   "id": "80983b2b",
   "metadata": {
    "execution": {
     "iopub.execute_input": "2024-03-02T07:25:49.024565Z",
     "iopub.status.busy": "2024-03-02T07:25:49.023995Z",
     "iopub.status.idle": "2024-03-02T07:25:49.031911Z",
     "shell.execute_reply": "2024-03-02T07:25:49.030776Z"
    },
    "id": "mSNpzZt3F5Yc",
    "outputId": "e1359d39-75ff-46ad-f212-9a456ff47860",
    "papermill": {
     "duration": 0.03862,
     "end_time": "2024-03-02T07:25:49.034395",
     "exception": false,
     "start_time": "2024-03-02T07:25:48.995775",
     "status": "completed"
    },
    "tags": []
   },
   "outputs": [
    {
     "data": {
      "text/plain": [
       "1"
      ]
     },
     "execution_count": 7,
     "metadata": {},
     "output_type": "execute_result"
    }
   ],
   "source": [
    "vector.ndim # Dimension like how many pair of closing bracket"
   ]
  },
  {
   "cell_type": "code",
   "execution_count": 8,
   "id": "14a01653",
   "metadata": {
    "execution": {
     "iopub.execute_input": "2024-03-02T07:25:49.091631Z",
     "iopub.status.busy": "2024-03-02T07:25:49.090889Z",
     "iopub.status.idle": "2024-03-02T07:25:49.097863Z",
     "shell.execute_reply": "2024-03-02T07:25:49.096735Z"
    },
    "id": "rGTZw2ecGFCH",
    "outputId": "13fbc819-7c98-447d-ed9b-7f3e025627b9",
    "papermill": {
     "duration": 0.038394,
     "end_time": "2024-03-02T07:25:49.100142",
     "exception": false,
     "start_time": "2024-03-02T07:25:49.061748",
     "status": "completed"
    },
    "tags": []
   },
   "outputs": [
    {
     "data": {
      "text/plain": [
       "torch.Size([2])"
      ]
     },
     "execution_count": 8,
     "metadata": {},
     "output_type": "execute_result"
    }
   ],
   "source": [
    "vector.shape # It is like 2 elements"
   ]
  },
  {
   "cell_type": "code",
   "execution_count": 9,
   "id": "c4862c0f",
   "metadata": {
    "execution": {
     "iopub.execute_input": "2024-03-02T07:25:49.158210Z",
     "iopub.status.busy": "2024-03-02T07:25:49.157448Z",
     "iopub.status.idle": "2024-03-02T07:25:49.167497Z",
     "shell.execute_reply": "2024-03-02T07:25:49.166275Z"
    },
    "id": "8F_7PXyCGF0Q",
    "outputId": "0f3b6ff4-faf5-4313-d537-a835b18c5cae",
    "papermill": {
     "duration": 0.042805,
     "end_time": "2024-03-02T07:25:49.170414",
     "exception": false,
     "start_time": "2024-03-02T07:25:49.127609",
     "status": "completed"
    },
    "tags": []
   },
   "outputs": [
    {
     "data": {
      "text/plain": [
       "tensor([[ 7,  8],\n",
       "        [ 9, 10]])"
      ]
     },
     "execution_count": 9,
     "metadata": {},
     "output_type": "execute_result"
    }
   ],
   "source": [
    "# MATRIX\n",
    "MATRIX= torch.tensor([[7, 8],\n",
    "                      [9, 10]])\n",
    "MATRIX"
   ]
  },
  {
   "cell_type": "code",
   "execution_count": 10,
   "id": "00d3e303",
   "metadata": {
    "execution": {
     "iopub.execute_input": "2024-03-02T07:25:49.227445Z",
     "iopub.status.busy": "2024-03-02T07:25:49.226688Z",
     "iopub.status.idle": "2024-03-02T07:25:49.233835Z",
     "shell.execute_reply": "2024-03-02T07:25:49.232633Z"
    },
    "id": "37cJtDkjGUZ4",
    "outputId": "f3eb2d5e-4349-4247-a8e8-fe52670f6ee3",
    "papermill": {
     "duration": 0.038585,
     "end_time": "2024-03-02T07:25:49.236399",
     "exception": false,
     "start_time": "2024-03-02T07:25:49.197814",
     "status": "completed"
    },
    "tags": []
   },
   "outputs": [
    {
     "data": {
      "text/plain": [
       "2"
      ]
     },
     "execution_count": 10,
     "metadata": {},
     "output_type": "execute_result"
    }
   ],
   "source": [
    "MATRIX.ndim"
   ]
  },
  {
   "cell_type": "code",
   "execution_count": 11,
   "id": "c67941c3",
   "metadata": {
    "execution": {
     "iopub.execute_input": "2024-03-02T07:25:49.402432Z",
     "iopub.status.busy": "2024-03-02T07:25:49.401483Z",
     "iopub.status.idle": "2024-03-02T07:25:49.409477Z",
     "shell.execute_reply": "2024-03-02T07:25:49.408145Z"
    },
    "id": "ZaHxrwVKGXpR",
    "outputId": "5b956333-dc26-490e-8b0a-3c24de4d1b10",
    "papermill": {
     "duration": 0.046864,
     "end_time": "2024-03-02T07:25:49.412375",
     "exception": false,
     "start_time": "2024-03-02T07:25:49.365511",
     "status": "completed"
    },
    "tags": []
   },
   "outputs": [
    {
     "data": {
      "text/plain": [
       "torch.Size([2, 2])"
      ]
     },
     "execution_count": 11,
     "metadata": {},
     "output_type": "execute_result"
    }
   ],
   "source": [
    "MATRIX.shape"
   ]
  },
  {
   "cell_type": "code",
   "execution_count": 12,
   "id": "9ab6bf9f",
   "metadata": {
    "execution": {
     "iopub.execute_input": "2024-03-02T07:25:49.485531Z",
     "iopub.status.busy": "2024-03-02T07:25:49.484644Z",
     "iopub.status.idle": "2024-03-02T07:25:49.492877Z",
     "shell.execute_reply": "2024-03-02T07:25:49.491878Z"
    },
    "id": "naUJmnUWGZDy",
    "outputId": "b122083f-9616-4e70-f9b6-27c45c7e1ced",
    "papermill": {
     "duration": 0.045955,
     "end_time": "2024-03-02T07:25:49.495546",
     "exception": false,
     "start_time": "2024-03-02T07:25:49.449591",
     "status": "completed"
    },
    "tags": []
   },
   "outputs": [
    {
     "data": {
      "text/plain": [
       "tensor([[[1, 2, 3],\n",
       "         [3, 6, 9],\n",
       "         [2, 4, 5]]])"
      ]
     },
     "execution_count": 12,
     "metadata": {},
     "output_type": "execute_result"
    }
   ],
   "source": [
    "# TENSOR\n",
    "TENSOR= torch.tensor([[[1,2,3],\n",
    "                       [3,6,9],\n",
    "                       [2, 4, 5]]])\n",
    "TENSOR"
   ]
  },
  {
   "cell_type": "code",
   "execution_count": 13,
   "id": "fefd59c8",
   "metadata": {
    "execution": {
     "iopub.execute_input": "2024-03-02T07:25:49.554323Z",
     "iopub.status.busy": "2024-03-02T07:25:49.553451Z",
     "iopub.status.idle": "2024-03-02T07:25:49.560414Z",
     "shell.execute_reply": "2024-03-02T07:25:49.559258Z"
    },
    "id": "CMy-73yiDYBf",
    "outputId": "763cff2e-82d5-489d-b80b-5bcccef0e8eb",
    "papermill": {
     "duration": 0.039097,
     "end_time": "2024-03-02T07:25:49.562987",
     "exception": false,
     "start_time": "2024-03-02T07:25:49.523890",
     "status": "completed"
    },
    "tags": []
   },
   "outputs": [
    {
     "data": {
      "text/plain": [
       "3"
      ]
     },
     "execution_count": 13,
     "metadata": {},
     "output_type": "execute_result"
    }
   ],
   "source": [
    "TENSOR.ndim"
   ]
  },
  {
   "cell_type": "code",
   "execution_count": 14,
   "id": "1a304be3",
   "metadata": {
    "execution": {
     "iopub.execute_input": "2024-03-02T07:25:49.622470Z",
     "iopub.status.busy": "2024-03-02T07:25:49.621643Z",
     "iopub.status.idle": "2024-03-02T07:25:49.628505Z",
     "shell.execute_reply": "2024-03-02T07:25:49.627447Z"
    },
    "id": "3JYDH_F6DY_k",
    "outputId": "6e80bf44-2e0a-4744-d891-acf55d66bac8",
    "papermill": {
     "duration": 0.039125,
     "end_time": "2024-03-02T07:25:49.631069",
     "exception": false,
     "start_time": "2024-03-02T07:25:49.591944",
     "status": "completed"
    },
    "tags": []
   },
   "outputs": [
    {
     "data": {
      "text/plain": [
       "torch.Size([1, 3, 3])"
      ]
     },
     "execution_count": 14,
     "metadata": {},
     "output_type": "execute_result"
    }
   ],
   "source": [
    "TENSOR.shape"
   ]
  },
  {
   "cell_type": "code",
   "execution_count": 15,
   "id": "944e757f",
   "metadata": {
    "execution": {
     "iopub.execute_input": "2024-03-02T07:25:49.689869Z",
     "iopub.status.busy": "2024-03-02T07:25:49.689393Z",
     "iopub.status.idle": "2024-03-02T07:25:49.696425Z",
     "shell.execute_reply": "2024-03-02T07:25:49.695466Z"
    },
    "id": "l0LjcraODZ6u",
    "outputId": "37f3eb07-ebed-46f0-dce8-7914befdc948",
    "papermill": {
     "duration": 0.039667,
     "end_time": "2024-03-02T07:25:49.699238",
     "exception": false,
     "start_time": "2024-03-02T07:25:49.659571",
     "status": "completed"
    },
    "tags": []
   },
   "outputs": [
    {
     "data": {
      "text/plain": [
       "tensor([3, 6, 9])"
      ]
     },
     "execution_count": 15,
     "metadata": {},
     "output_type": "execute_result"
    }
   ],
   "source": [
    "TENSOR[0][1]"
   ]
  },
  {
   "cell_type": "markdown",
   "id": "76c6c94e",
   "metadata": {
    "id": "xw1jfseBDfvV",
    "papermill": {
     "duration": 0.043764,
     "end_time": "2024-03-02T07:25:49.771798",
     "exception": false,
     "start_time": "2024-03-02T07:25:49.728034",
     "status": "completed"
    },
    "tags": []
   },
   "source": [
    "## Random tensor\n",
    "\n",
    "Why random tensor?\n",
    "\n",
    "Random tensor are important because the way many NN learn is that they start with tensors full of random numbers and then adjust those random numbers to better represent the data\n",
    "\n",
    "`Start with random number -> look at data -> update random numbers -> look at data -> update random numbers`"
   ]
  },
  {
   "cell_type": "code",
   "execution_count": 16,
   "id": "b9e6bbd5",
   "metadata": {
    "execution": {
     "iopub.execute_input": "2024-03-02T07:25:49.836312Z",
     "iopub.status.busy": "2024-03-02T07:25:49.835301Z",
     "iopub.status.idle": "2024-03-02T07:25:49.916015Z",
     "shell.execute_reply": "2024-03-02T07:25:49.914720Z"
    },
    "id": "NN70Ys19EPIt",
    "outputId": "f3d00ad2-abbc-46ca-898a-683c2bff508a",
    "papermill": {
     "duration": 0.115101,
     "end_time": "2024-03-02T07:25:49.918903",
     "exception": false,
     "start_time": "2024-03-02T07:25:49.803802",
     "status": "completed"
    },
    "tags": []
   },
   "outputs": [
    {
     "data": {
      "text/plain": [
       "tensor([[0.6435, 0.7361, 0.9165, 0.3669],\n",
       "        [0.5531, 0.1920, 0.6009, 0.1577],\n",
       "        [0.5215, 0.1490, 0.2228, 0.6155]])"
      ]
     },
     "execution_count": 16,
     "metadata": {},
     "output_type": "execute_result"
    }
   ],
   "source": [
    "# Create random tensor of size (3,4)\n",
    "random_tensor= torch.rand(3, 4)\n",
    "random_tensor"
   ]
  },
  {
   "cell_type": "code",
   "execution_count": 17,
   "id": "1e7c33b9",
   "metadata": {
    "execution": {
     "iopub.execute_input": "2024-03-02T07:25:49.978750Z",
     "iopub.status.busy": "2024-03-02T07:25:49.978281Z",
     "iopub.status.idle": "2024-03-02T07:25:49.989040Z",
     "shell.execute_reply": "2024-03-02T07:25:49.987858Z"
    },
    "id": "LC79ABCaE1B-",
    "outputId": "814a50c5-f92d-4a74-a7a0-120d118e85dc",
    "papermill": {
     "duration": 0.044259,
     "end_time": "2024-03-02T07:25:49.991679",
     "exception": false,
     "start_time": "2024-03-02T07:25:49.947420",
     "status": "completed"
    },
    "tags": []
   },
   "outputs": [
    {
     "data": {
      "text/plain": [
       "(torch.Size([224, 224, 3]), 3)"
      ]
     },
     "execution_count": 17,
     "metadata": {},
     "output_type": "execute_result"
    }
   ],
   "source": [
    "# Create random tensor with similar shape to an image tensor\n",
    "random_image_size_tensor= torch.rand(size= (224, 224, 3)) # height, width, colour channel\n",
    "random_image_size_tensor.shape, random_image_size_tensor.ndim"
   ]
  },
  {
   "cell_type": "markdown",
   "id": "9adeffba",
   "metadata": {
    "id": "l6nyrfHlErsv",
    "papermill": {
     "duration": 0.028239,
     "end_time": "2024-03-02T07:25:50.049103",
     "exception": false,
     "start_time": "2024-03-02T07:25:50.020864",
     "status": "completed"
    },
    "tags": []
   },
   "source": [
    "## Zeros and Ones"
   ]
  },
  {
   "cell_type": "code",
   "execution_count": 18,
   "id": "487fd517",
   "metadata": {
    "execution": {
     "iopub.execute_input": "2024-03-02T07:25:50.109988Z",
     "iopub.status.busy": "2024-03-02T07:25:50.109262Z",
     "iopub.status.idle": "2024-03-02T07:25:50.121044Z",
     "shell.execute_reply": "2024-03-02T07:25:50.119795Z"
    },
    "id": "nlm217iYHNwS",
    "outputId": "0f64fb5f-e586-4c86-e064-22e5e8018b2d",
    "papermill": {
     "duration": 0.045268,
     "end_time": "2024-03-02T07:25:50.123821",
     "exception": false,
     "start_time": "2024-03-02T07:25:50.078553",
     "status": "completed"
    },
    "tags": []
   },
   "outputs": [
    {
     "data": {
      "text/plain": [
       "tensor([[0., 0., 0., 0.],\n",
       "        [0., 0., 0., 0.],\n",
       "        [0., 0., 0., 0.]])"
      ]
     },
     "execution_count": 18,
     "metadata": {},
     "output_type": "execute_result"
    }
   ],
   "source": [
    "# Create a tensor of all zero\n",
    "zeros= torch.zeros(size= (3, 4))\n",
    "zeros"
   ]
  },
  {
   "cell_type": "code",
   "execution_count": 19,
   "id": "fe7c78f0",
   "metadata": {
    "execution": {
     "iopub.execute_input": "2024-03-02T07:25:50.184929Z",
     "iopub.status.busy": "2024-03-02T07:25:50.184192Z",
     "iopub.status.idle": "2024-03-02T07:25:50.194283Z",
     "shell.execute_reply": "2024-03-02T07:25:50.192919Z"
    },
    "id": "ZAt4nThwHSdW",
    "outputId": "46a37ee3-6cea-490f-e19a-3810bd06a0f3",
    "papermill": {
     "duration": 0.043784,
     "end_time": "2024-03-02T07:25:50.196962",
     "exception": false,
     "start_time": "2024-03-02T07:25:50.153178",
     "status": "completed"
    },
    "tags": []
   },
   "outputs": [
    {
     "data": {
      "text/plain": [
       "tensor([[1., 1., 1., 1.],\n",
       "        [1., 1., 1., 1.],\n",
       "        [1., 1., 1., 1.]])"
      ]
     },
     "execution_count": 19,
     "metadata": {},
     "output_type": "execute_result"
    }
   ],
   "source": [
    "# Create tensor of all ones\n",
    "ones= torch.ones(3, 4)\n",
    "ones"
   ]
  },
  {
   "cell_type": "markdown",
   "id": "45c4c4a7",
   "metadata": {
    "id": "AdQ4nCbkHVjC",
    "papermill": {
     "duration": 0.029142,
     "end_time": "2024-03-02T07:25:50.255288",
     "exception": false,
     "start_time": "2024-03-02T07:25:50.226146",
     "status": "completed"
    },
    "tags": []
   },
   "source": [
    "## Creating range of tensors"
   ]
  },
  {
   "cell_type": "code",
   "execution_count": 20,
   "id": "55ff667a",
   "metadata": {
    "execution": {
     "iopub.execute_input": "2024-03-02T07:25:50.315726Z",
     "iopub.status.busy": "2024-03-02T07:25:50.315277Z",
     "iopub.status.idle": "2024-03-02T07:25:50.329947Z",
     "shell.execute_reply": "2024-03-02T07:25:50.328662Z"
    },
    "id": "z4UXdlVKBPKu",
    "outputId": "93790765-3821-44f9-9103-6414d9fc63d9",
    "papermill": {
     "duration": 0.048605,
     "end_time": "2024-03-02T07:25:50.332807",
     "exception": false,
     "start_time": "2024-03-02T07:25:50.284202",
     "status": "completed"
    },
    "tags": []
   },
   "outputs": [
    {
     "data": {
      "text/plain": [
       "tensor([1, 2, 3, 4, 5, 6, 7, 8, 9])"
      ]
     },
     "execution_count": 20,
     "metadata": {},
     "output_type": "execute_result"
    }
   ],
   "source": [
    "one_to_ten= torch.arange(start= 1, end= 10, step= 1)\n",
    "one_to_ten"
   ]
  },
  {
   "cell_type": "code",
   "execution_count": 21,
   "id": "73b16be1",
   "metadata": {
    "execution": {
     "iopub.execute_input": "2024-03-02T07:25:50.397439Z",
     "iopub.status.busy": "2024-03-02T07:25:50.396558Z",
     "iopub.status.idle": "2024-03-02T07:25:50.405098Z",
     "shell.execute_reply": "2024-03-02T07:25:50.403943Z"
    },
    "id": "L2CRFSjiBQ_1",
    "outputId": "22e4036d-80d1-4187-ac26-7f4a1a8a9849",
    "papermill": {
     "duration": 0.042403,
     "end_time": "2024-03-02T07:25:50.407775",
     "exception": false,
     "start_time": "2024-03-02T07:25:50.365372",
     "status": "completed"
    },
    "tags": []
   },
   "outputs": [
    {
     "data": {
      "text/plain": [
       "tensor([0, 0, 0, 0, 0, 0, 0, 0, 0])"
      ]
     },
     "execution_count": 21,
     "metadata": {},
     "output_type": "execute_result"
    }
   ],
   "source": [
    "# Creating tensor like\n",
    "ten_zeros= torch.zeros_like(input= one_to_ten)\n",
    "ten_zeros"
   ]
  },
  {
   "cell_type": "markdown",
   "id": "8e3d1ea9",
   "metadata": {
    "id": "3ILvWRIrB1Z6",
    "papermill": {
     "duration": 0.038712,
     "end_time": "2024-03-02T07:25:50.481182",
     "exception": false,
     "start_time": "2024-03-02T07:25:50.442470",
     "status": "completed"
    },
    "tags": []
   },
   "source": [
    "## Tensor datatypes\n",
    "\n",
    "**Note**: Tensor datatypes is one of the big 3 errors we'll run into with PyTorch & Deep Learning\n",
    "\n",
    "1. Tensor not right datatype `tensor.dtype`\n",
    "1. Tensor not right shape `tensor.shape`\n",
    "1. Tensors not on the right device `tensor.device`"
   ]
  },
  {
   "cell_type": "markdown",
   "id": "25736866",
   "metadata": {
    "id": "tE0oWG27C9sY",
    "papermill": {
     "duration": 0.029012,
     "end_time": "2024-03-02T07:25:50.542801",
     "exception": false,
     "start_time": "2024-03-02T07:25:50.513789",
     "status": "completed"
    },
    "tags": []
   },
   "source": [
    "Datatype: https://pytorch.org/docs/stable/tensors.html"
   ]
  },
  {
   "cell_type": "code",
   "execution_count": 22,
   "id": "7970f2a7",
   "metadata": {
    "execution": {
     "iopub.execute_input": "2024-03-02T07:25:50.603703Z",
     "iopub.status.busy": "2024-03-02T07:25:50.603222Z",
     "iopub.status.idle": "2024-03-02T07:25:50.612072Z",
     "shell.execute_reply": "2024-03-02T07:25:50.611229Z"
    },
    "id": "lU7rI-lPCnB9",
    "outputId": "f5b88a49-4b30-42dc-97a8-aa245cc88ba8",
    "papermill": {
     "duration": 0.042322,
     "end_time": "2024-03-02T07:25:50.614472",
     "exception": false,
     "start_time": "2024-03-02T07:25:50.572150",
     "status": "completed"
    },
    "tags": []
   },
   "outputs": [
    {
     "data": {
      "text/plain": [
       "tensor([3., 6., 9.])"
      ]
     },
     "execution_count": 22,
     "metadata": {},
     "output_type": "execute_result"
    }
   ],
   "source": [
    "float_32_tensor= torch.tensor([3.0, 6.0, 9.0],\n",
    "                              dtype= None, # What datatype is the tensor (e.g. float32 or float16)\n",
    "                              device= None, # We cannot do operation on tensor with 2 different device\n",
    "                              requires_grad= False) # Whether or not to track gradients with this tensor operation\n",
    "# 3 most important parameter when creating tensor\n",
    "float_32_tensor"
   ]
  },
  {
   "cell_type": "code",
   "execution_count": 23,
   "id": "acf753ba",
   "metadata": {
    "execution": {
     "iopub.execute_input": "2024-03-02T07:25:50.676431Z",
     "iopub.status.busy": "2024-03-02T07:25:50.675663Z",
     "iopub.status.idle": "2024-03-02T07:25:50.682073Z",
     "shell.execute_reply": "2024-03-02T07:25:50.681265Z"
    },
    "id": "cs4dFic1Cs1q",
    "outputId": "e7096d1a-6318-4dbe-9a3b-c58df059ef3d",
    "papermill": {
     "duration": 0.040122,
     "end_time": "2024-03-02T07:25:50.684718",
     "exception": false,
     "start_time": "2024-03-02T07:25:50.644596",
     "status": "completed"
    },
    "tags": []
   },
   "outputs": [
    {
     "data": {
      "text/plain": [
       "torch.float32"
      ]
     },
     "execution_count": 23,
     "metadata": {},
     "output_type": "execute_result"
    }
   ],
   "source": [
    "float_32_tensor.dtype # Default is float32"
   ]
  },
  {
   "cell_type": "code",
   "execution_count": 24,
   "id": "7b777907",
   "metadata": {
    "execution": {
     "iopub.execute_input": "2024-03-02T07:25:50.746366Z",
     "iopub.status.busy": "2024-03-02T07:25:50.745583Z",
     "iopub.status.idle": "2024-03-02T07:25:50.757892Z",
     "shell.execute_reply": "2024-03-02T07:25:50.756467Z"
    },
    "id": "Nt2Zli55DmjT",
    "outputId": "4d13585f-e073-4d84-d750-0f38aa598377",
    "papermill": {
     "duration": 0.046312,
     "end_time": "2024-03-02T07:25:50.760902",
     "exception": false,
     "start_time": "2024-03-02T07:25:50.714590",
     "status": "completed"
    },
    "tags": []
   },
   "outputs": [
    {
     "data": {
      "text/plain": [
       "tensor([3., 6., 9.], dtype=torch.float16)"
      ]
     },
     "execution_count": 24,
     "metadata": {},
     "output_type": "execute_result"
    }
   ],
   "source": [
    "float_16_tensor= float_32_tensor.type(torch.float16)\n",
    "float_16_tensor"
   ]
  },
  {
   "cell_type": "code",
   "execution_count": 25,
   "id": "a14e5b7d",
   "metadata": {
    "execution": {
     "iopub.execute_input": "2024-03-02T07:25:50.823238Z",
     "iopub.status.busy": "2024-03-02T07:25:50.822004Z",
     "iopub.status.idle": "2024-03-02T07:25:50.831235Z",
     "shell.execute_reply": "2024-03-02T07:25:50.829830Z"
    },
    "id": "-k2ko4ysEh4P",
    "outputId": "a327786e-ecff-4dd4-dea1-db0b42bb386e",
    "papermill": {
     "duration": 0.043352,
     "end_time": "2024-03-02T07:25:50.834067",
     "exception": false,
     "start_time": "2024-03-02T07:25:50.790715",
     "status": "completed"
    },
    "tags": []
   },
   "outputs": [
    {
     "data": {
      "text/plain": [
       "(tensor([ 9., 36., 81.]), torch.float32)"
      ]
     },
     "execution_count": 25,
     "metadata": {},
     "output_type": "execute_result"
    }
   ],
   "source": [
    "test= float_32_tensor * float_16_tensor\n",
    "test, test.dtype"
   ]
  },
  {
   "cell_type": "code",
   "execution_count": 26,
   "id": "60e8c9d9",
   "metadata": {
    "execution": {
     "iopub.execute_input": "2024-03-02T07:25:50.896952Z",
     "iopub.status.busy": "2024-03-02T07:25:50.896522Z",
     "iopub.status.idle": "2024-03-02T07:25:50.905075Z",
     "shell.execute_reply": "2024-03-02T07:25:50.903724Z"
    },
    "id": "BzNt5dojE4Qa",
    "outputId": "3389b598-8a8e-41fd-8e62-ca8685feea02",
    "papermill": {
     "duration": 0.042962,
     "end_time": "2024-03-02T07:25:50.907863",
     "exception": false,
     "start_time": "2024-03-02T07:25:50.864901",
     "status": "completed"
    },
    "tags": []
   },
   "outputs": [
    {
     "data": {
      "text/plain": [
       "tensor([3, 6, 9])"
      ]
     },
     "execution_count": 26,
     "metadata": {},
     "output_type": "execute_result"
    }
   ],
   "source": [
    "int_32_tensor= torch.tensor([3, 6, 9])\n",
    "int_32_tensor"
   ]
  },
  {
   "cell_type": "code",
   "execution_count": 27,
   "id": "53cb4170",
   "metadata": {
    "execution": {
     "iopub.execute_input": "2024-03-02T07:25:50.971484Z",
     "iopub.status.busy": "2024-03-02T07:25:50.971015Z",
     "iopub.status.idle": "2024-03-02T07:25:50.979945Z",
     "shell.execute_reply": "2024-03-02T07:25:50.978750Z"
    },
    "id": "Jqp3t1iBFNLO",
    "outputId": "44a1581d-ec42-433d-f28b-81d31a73667f",
    "papermill": {
     "duration": 0.043606,
     "end_time": "2024-03-02T07:25:50.982447",
     "exception": false,
     "start_time": "2024-03-02T07:25:50.938841",
     "status": "completed"
    },
    "tags": []
   },
   "outputs": [
    {
     "data": {
      "text/plain": [
       "tensor([ 9., 36., 81.])"
      ]
     },
     "execution_count": 27,
     "metadata": {},
     "output_type": "execute_result"
    }
   ],
   "source": [
    "float_32_tensor * int_32_tensor"
   ]
  },
  {
   "cell_type": "code",
   "execution_count": 28,
   "id": "0d3f7688",
   "metadata": {
    "execution": {
     "iopub.execute_input": "2024-03-02T07:25:51.045658Z",
     "iopub.status.busy": "2024-03-02T07:25:51.045182Z",
     "iopub.status.idle": "2024-03-02T07:25:51.054614Z",
     "shell.execute_reply": "2024-03-02T07:25:51.053416Z"
    },
    "id": "XFhO-WoMFRO-",
    "outputId": "81d15415-93c9-4c8b-bf75-bb80bf28c83a",
    "papermill": {
     "duration": 0.043711,
     "end_time": "2024-03-02T07:25:51.057128",
     "exception": false,
     "start_time": "2024-03-02T07:25:51.013417",
     "status": "completed"
    },
    "tags": []
   },
   "outputs": [
    {
     "data": {
      "text/plain": [
       "tensor([[0.6758, 0.9805, 0.9950, 0.5441],\n",
       "        [0.4062, 0.7299, 0.4070, 0.6844],\n",
       "        [0.0780, 0.2148, 0.4079, 0.0714]])"
      ]
     },
     "execution_count": 28,
     "metadata": {},
     "output_type": "execute_result"
    }
   ],
   "source": [
    "# Getting information from tensor\n",
    "some_tensor= torch.rand(3, 4)\n",
    "some_tensor"
   ]
  },
  {
   "cell_type": "code",
   "execution_count": 29,
   "id": "bce128a9",
   "metadata": {
    "execution": {
     "iopub.execute_input": "2024-03-02T07:25:51.119935Z",
     "iopub.status.busy": "2024-03-02T07:25:51.119537Z",
     "iopub.status.idle": "2024-03-02T07:25:51.127046Z",
     "shell.execute_reply": "2024-03-02T07:25:51.125479Z"
    },
    "id": "6JdM7gDJF_w-",
    "outputId": "200e6ba3-157d-4adb-d289-a3e3bd9160b5",
    "papermill": {
     "duration": 0.04259,
     "end_time": "2024-03-02T07:25:51.130149",
     "exception": false,
     "start_time": "2024-03-02T07:25:51.087559",
     "status": "completed"
    },
    "tags": []
   },
   "outputs": [
    {
     "name": "stdout",
     "output_type": "stream",
     "text": [
      "tensor([[0.6758, 0.9805, 0.9950, 0.5441],\n",
      "        [0.4062, 0.7299, 0.4070, 0.6844],\n",
      "        [0.0780, 0.2148, 0.4079, 0.0714]])\n",
      "\n",
      "Datatype of tensor: torch.float32\n",
      "Shape of tensor: torch.Size([3, 4])\n",
      "Device of tensor: cpu\n"
     ]
    }
   ],
   "source": [
    "# Find details about tensor\n",
    "print(some_tensor)\n",
    "print(f'\\nDatatype of tensor: {some_tensor.dtype}')\n",
    "print(f'Shape of tensor: {some_tensor.shape}')\n",
    "print(f'Device of tensor: {some_tensor.device}')"
   ]
  },
  {
   "cell_type": "markdown",
   "id": "e9a9fc1f",
   "metadata": {
    "id": "a4TXAsIsGOI8",
    "papermill": {
     "duration": 0.030156,
     "end_time": "2024-03-02T07:25:51.190844",
     "exception": false,
     "start_time": "2024-03-02T07:25:51.160688",
     "status": "completed"
    },
    "tags": []
   },
   "source": [
    "## Manipulating tensors\n",
    "\n",
    "Tensor operation:\n",
    "* Addition\n",
    "* Subtraction\n",
    "* Multiplication (element-wise)\n",
    "* Division\n",
    "* Matrix multiplication"
   ]
  },
  {
   "cell_type": "code",
   "execution_count": 30,
   "id": "3550cd39",
   "metadata": {
    "execution": {
     "iopub.execute_input": "2024-03-02T07:25:51.253725Z",
     "iopub.status.busy": "2024-03-02T07:25:51.253288Z",
     "iopub.status.idle": "2024-03-02T07:25:51.262705Z",
     "shell.execute_reply": "2024-03-02T07:25:51.261328Z"
    },
    "id": "KLs-syHU0vVR",
    "outputId": "f69ce327-da6e-4a5b-a1e1-cb66b929152c",
    "papermill": {
     "duration": 0.044048,
     "end_time": "2024-03-02T07:25:51.265312",
     "exception": false,
     "start_time": "2024-03-02T07:25:51.221264",
     "status": "completed"
    },
    "tags": []
   },
   "outputs": [
    {
     "data": {
      "text/plain": [
       "tensor([11, 12, 13])"
      ]
     },
     "execution_count": 30,
     "metadata": {},
     "output_type": "execute_result"
    }
   ],
   "source": [
    "# Create a tensor\n",
    "tensor= torch.tensor([1, 2, 3])\n",
    "tensor+10"
   ]
  },
  {
   "cell_type": "code",
   "execution_count": 31,
   "id": "9685f222",
   "metadata": {
    "execution": {
     "iopub.execute_input": "2024-03-02T07:25:51.330588Z",
     "iopub.status.busy": "2024-03-02T07:25:51.329719Z",
     "iopub.status.idle": "2024-03-02T07:25:51.340404Z",
     "shell.execute_reply": "2024-03-02T07:25:51.339027Z"
    },
    "id": "4goEUVJo1CBh",
    "outputId": "bc5fdf80-5178-4df3-a9d7-73e89436f4d9",
    "papermill": {
     "duration": 0.046912,
     "end_time": "2024-03-02T07:25:51.343598",
     "exception": false,
     "start_time": "2024-03-02T07:25:51.296686",
     "status": "completed"
    },
    "tags": []
   },
   "outputs": [
    {
     "data": {
      "text/plain": [
       "tensor([-9, -8, -7])"
      ]
     },
     "execution_count": 31,
     "metadata": {},
     "output_type": "execute_result"
    }
   ],
   "source": [
    "tensor-10"
   ]
  },
  {
   "cell_type": "code",
   "execution_count": 32,
   "id": "d4fd2173",
   "metadata": {
    "execution": {
     "iopub.execute_input": "2024-03-02T07:25:51.410869Z",
     "iopub.status.busy": "2024-03-02T07:25:51.410382Z",
     "iopub.status.idle": "2024-03-02T07:25:51.419705Z",
     "shell.execute_reply": "2024-03-02T07:25:51.418650Z"
    },
    "id": "A5zYHgvj1EI1",
    "outputId": "7f638721-33a3-4fde-8c9a-e209f03867bc",
    "papermill": {
     "duration": 0.044802,
     "end_time": "2024-03-02T07:25:51.422221",
     "exception": false,
     "start_time": "2024-03-02T07:25:51.377419",
     "status": "completed"
    },
    "tags": []
   },
   "outputs": [
    {
     "data": {
      "text/plain": [
       "tensor([ 5, 10, 15])"
      ]
     },
     "execution_count": 32,
     "metadata": {},
     "output_type": "execute_result"
    }
   ],
   "source": [
    "tensor*5\n",
    "# torch.mul(tensor, 5) same"
   ]
  },
  {
   "cell_type": "code",
   "execution_count": 33,
   "id": "760772f9",
   "metadata": {
    "execution": {
     "iopub.execute_input": "2024-03-02T07:25:51.486825Z",
     "iopub.status.busy": "2024-03-02T07:25:51.485286Z",
     "iopub.status.idle": "2024-03-02T07:25:51.494665Z",
     "shell.execute_reply": "2024-03-02T07:25:51.493598Z"
    },
    "id": "WSpimjRV1G_b",
    "outputId": "e53b88e2-2abf-4b8d-a6cb-cd82fcbe16a1",
    "papermill": {
     "duration": 0.044392,
     "end_time": "2024-03-02T07:25:51.497411",
     "exception": false,
     "start_time": "2024-03-02T07:25:51.453019",
     "status": "completed"
    },
    "tags": []
   },
   "outputs": [
    {
     "data": {
      "text/plain": [
       "tensor([0.5000, 1.0000, 1.5000])"
      ]
     },
     "execution_count": 33,
     "metadata": {},
     "output_type": "execute_result"
    }
   ],
   "source": [
    "tensor/2\n",
    "# torch.div(tensor, 2) same"
   ]
  },
  {
   "cell_type": "code",
   "execution_count": 34,
   "id": "732f4582",
   "metadata": {
    "execution": {
     "iopub.execute_input": "2024-03-02T07:25:51.562148Z",
     "iopub.status.busy": "2024-03-02T07:25:51.561462Z",
     "iopub.status.idle": "2024-03-02T07:25:51.568045Z",
     "shell.execute_reply": "2024-03-02T07:25:51.566736Z"
    },
    "id": "2-gz890z1LfP",
    "outputId": "af34246a-ec09-4f95-9e74-a30fbffeb25b",
    "papermill": {
     "duration": 0.042102,
     "end_time": "2024-03-02T07:25:51.570568",
     "exception": false,
     "start_time": "2024-03-02T07:25:51.528466",
     "status": "completed"
    },
    "tags": []
   },
   "outputs": [
    {
     "data": {
      "text/plain": [
       "tensor([1, 4, 9])"
      ]
     },
     "execution_count": 34,
     "metadata": {},
     "output_type": "execute_result"
    }
   ],
   "source": [
    "# Element wise multiplication\n",
    "tensor*tensor"
   ]
  },
  {
   "cell_type": "code",
   "execution_count": 35,
   "id": "3fd6792c",
   "metadata": {
    "execution": {
     "iopub.execute_input": "2024-03-02T07:25:51.635851Z",
     "iopub.status.busy": "2024-03-02T07:25:51.634718Z",
     "iopub.status.idle": "2024-03-02T07:25:51.645949Z",
     "shell.execute_reply": "2024-03-02T07:25:51.645019Z"
    },
    "id": "_R5OYHpd16MC",
    "outputId": "696d8cf4-6752-44d5-ae47-9ee87b17f24e",
    "papermill": {
     "duration": 0.04722,
     "end_time": "2024-03-02T07:25:51.649150",
     "exception": false,
     "start_time": "2024-03-02T07:25:51.601930",
     "status": "completed"
    },
    "tags": []
   },
   "outputs": [
    {
     "data": {
      "text/plain": [
       "tensor(14)"
      ]
     },
     "execution_count": 35,
     "metadata": {},
     "output_type": "execute_result"
    }
   ],
   "source": [
    "torch.matmul(tensor, tensor)"
   ]
  },
  {
   "cell_type": "code",
   "execution_count": 36,
   "id": "70e7586d",
   "metadata": {
    "execution": {
     "iopub.execute_input": "2024-03-02T07:25:51.715896Z",
     "iopub.status.busy": "2024-03-02T07:25:51.714687Z",
     "iopub.status.idle": "2024-03-02T07:25:51.727075Z",
     "shell.execute_reply": "2024-03-02T07:25:51.725631Z"
    },
    "id": "d1_03XZ02FA8",
    "outputId": "8e87771b-5bc2-4553-f114-a86ba08fde41",
    "papermill": {
     "duration": 0.049216,
     "end_time": "2024-03-02T07:25:51.729893",
     "exception": false,
     "start_time": "2024-03-02T07:25:51.680677",
     "status": "completed"
    },
    "tags": []
   },
   "outputs": [
    {
     "data": {
      "text/plain": [
       "tensor(14)"
      ]
     },
     "execution_count": 36,
     "metadata": {},
     "output_type": "execute_result"
    }
   ],
   "source": [
    "# Checking time\n",
    "\n",
    "value= 0\n",
    "for i in range(len(tensor)):\n",
    "    value += tensor[i] * tensor[i]\n",
    "value"
   ]
  },
  {
   "cell_type": "code",
   "execution_count": 37,
   "id": "72b7865f",
   "metadata": {
    "execution": {
     "iopub.execute_input": "2024-03-02T07:25:51.796326Z",
     "iopub.status.busy": "2024-03-02T07:25:51.795577Z",
     "iopub.status.idle": "2024-03-02T07:25:51.804040Z",
     "shell.execute_reply": "2024-03-02T07:25:51.802927Z"
    },
    "id": "f3_MBWtt2Xwc",
    "outputId": "ff40f9be-d31c-40e5-97a1-f97fe39463ed",
    "papermill": {
     "duration": 0.04524,
     "end_time": "2024-03-02T07:25:51.806675",
     "exception": false,
     "start_time": "2024-03-02T07:25:51.761435",
     "status": "completed"
    },
    "tags": []
   },
   "outputs": [
    {
     "name": "stdout",
     "output_type": "stream",
     "text": [
      "CPU times: user 55 µs, sys: 11 µs, total: 66 µs\n",
      "Wall time: 69.6 µs\n"
     ]
    },
    {
     "data": {
      "text/plain": [
       "tensor(14)"
      ]
     },
     "execution_count": 37,
     "metadata": {},
     "output_type": "execute_result"
    }
   ],
   "source": [
    "%%time\n",
    "torch.matmul(tensor, tensor)"
   ]
  },
  {
   "cell_type": "markdown",
   "id": "535f6a1c",
   "metadata": {
    "id": "nipONOO22d3w",
    "papermill": {
     "duration": 0.031773,
     "end_time": "2024-03-02T07:25:51.870326",
     "exception": false,
     "start_time": "2024-03-02T07:25:51.838553",
     "status": "completed"
    },
    "tags": []
   },
   "source": [
    "## Shape errors"
   ]
  },
  {
   "cell_type": "code",
   "execution_count": 38,
   "id": "e04076e4",
   "metadata": {
    "execution": {
     "iopub.execute_input": "2024-03-02T07:25:51.936395Z",
     "iopub.status.busy": "2024-03-02T07:25:51.935656Z",
     "iopub.status.idle": "2024-03-02T07:25:51.949060Z",
     "shell.execute_reply": "2024-03-02T07:25:51.947691Z"
    },
    "id": "PVbgUV24N0SQ",
    "outputId": "0e37c7b7-1eb0-43cd-e66c-dcc519e677a9",
    "papermill": {
     "duration": 0.049861,
     "end_time": "2024-03-02T07:25:51.952176",
     "exception": false,
     "start_time": "2024-03-02T07:25:51.902315",
     "status": "completed"
    },
    "tags": []
   },
   "outputs": [
    {
     "data": {
      "text/plain": [
       "tensor([[ 27,  30,  33],\n",
       "        [ 61,  68,  75],\n",
       "        [ 95, 106, 117]])"
      ]
     },
     "execution_count": 38,
     "metadata": {},
     "output_type": "execute_result"
    }
   ],
   "source": [
    "# Shapes for matrix multiplication\n",
    "tensor_A= torch.tensor([[1,2],\n",
    "                        [3, 4],\n",
    "                        [5, 6]])\n",
    "tensor_B= torch.tensor([[7, 10],\n",
    "                        [8, 11],\n",
    "                        [9, 12]])\n",
    "\n",
    "torch.mm(tensor_A, tensor_B.T) #torch.mm == torch.matmul # It will raise error\n"
   ]
  },
  {
   "cell_type": "markdown",
   "id": "7f0277f8",
   "metadata": {
    "id": "YTmbihCLOItL",
    "papermill": {
     "duration": 0.031895,
     "end_time": "2024-03-02T07:25:52.016445",
     "exception": false,
     "start_time": "2024-03-02T07:25:51.984550",
     "status": "completed"
    },
    "tags": []
   },
   "source": [
    "## Finding min, max, mean, sum, etc"
   ]
  },
  {
   "cell_type": "code",
   "execution_count": 39,
   "id": "9724912d",
   "metadata": {
    "execution": {
     "iopub.execute_input": "2024-03-02T07:25:52.082773Z",
     "iopub.status.busy": "2024-03-02T07:25:52.082269Z",
     "iopub.status.idle": "2024-03-02T07:25:52.091344Z",
     "shell.execute_reply": "2024-03-02T07:25:52.090230Z"
    },
    "id": "2ZXtxVFtQ80F",
    "outputId": "a86d4a3a-b7d8-4c08-e157-3335d331ce1c",
    "papermill": {
     "duration": 0.045312,
     "end_time": "2024-03-02T07:25:52.094079",
     "exception": false,
     "start_time": "2024-03-02T07:25:52.048767",
     "status": "completed"
    },
    "tags": []
   },
   "outputs": [
    {
     "name": "stdout",
     "output_type": "stream",
     "text": [
      "tensor(0)\n"
     ]
    }
   ],
   "source": [
    "x= torch.arange(0, 100, 10)\n",
    "# Find min\n",
    "print(torch.min(x))"
   ]
  },
  {
   "cell_type": "code",
   "execution_count": 40,
   "id": "6e7f34b6",
   "metadata": {
    "execution": {
     "iopub.execute_input": "2024-03-02T07:25:52.160905Z",
     "iopub.status.busy": "2024-03-02T07:25:52.160454Z",
     "iopub.status.idle": "2024-03-02T07:25:52.167089Z",
     "shell.execute_reply": "2024-03-02T07:25:52.165834Z"
    },
    "id": "AVPaMAw-RCRq",
    "outputId": "d1ba87c4-856c-4ed5-8f75-45e0e8fa302b",
    "papermill": {
     "duration": 0.043287,
     "end_time": "2024-03-02T07:25:52.169829",
     "exception": false,
     "start_time": "2024-03-02T07:25:52.126542",
     "status": "completed"
    },
    "tags": []
   },
   "outputs": [
    {
     "name": "stdout",
     "output_type": "stream",
     "text": [
      "tensor(90)\n"
     ]
    }
   ],
   "source": [
    "print(torch.max(x))"
   ]
  },
  {
   "cell_type": "code",
   "execution_count": 41,
   "id": "a27ce306",
   "metadata": {
    "execution": {
     "iopub.execute_input": "2024-03-02T07:25:52.236476Z",
     "iopub.status.busy": "2024-03-02T07:25:52.235624Z",
     "iopub.status.idle": "2024-03-02T07:25:52.251487Z",
     "shell.execute_reply": "2024-03-02T07:25:52.250116Z"
    },
    "id": "7D3mrCRPREJ0",
    "outputId": "f3c4c16a-e713-428c-dc4f-07a00907d31f",
    "papermill": {
     "duration": 0.052272,
     "end_time": "2024-03-02T07:25:52.254340",
     "exception": false,
     "start_time": "2024-03-02T07:25:52.202068",
     "status": "completed"
    },
    "tags": []
   },
   "outputs": [
    {
     "name": "stdout",
     "output_type": "stream",
     "text": [
      "tensor(45.)\n"
     ]
    },
    {
     "data": {
      "text/plain": [
       "(None, tensor(45.))"
      ]
     },
     "execution_count": 41,
     "metadata": {},
     "output_type": "execute_result"
    }
   ],
   "source": [
    "print(torch.mean(x.type(torch.float32))), x.type(torch.float32).mean()"
   ]
  },
  {
   "cell_type": "code",
   "execution_count": 42,
   "id": "29d29959",
   "metadata": {
    "execution": {
     "iopub.execute_input": "2024-03-02T07:25:52.322759Z",
     "iopub.status.busy": "2024-03-02T07:25:52.322277Z",
     "iopub.status.idle": "2024-03-02T07:25:52.330708Z",
     "shell.execute_reply": "2024-03-02T07:25:52.329527Z"
    },
    "id": "4j1w0TXTRG_L",
    "outputId": "ab64c0ac-82ce-413f-9778-863e70d8a793",
    "papermill": {
     "duration": 0.045458,
     "end_time": "2024-03-02T07:25:52.333237",
     "exception": false,
     "start_time": "2024-03-02T07:25:52.287779",
     "status": "completed"
    },
    "tags": []
   },
   "outputs": [
    {
     "data": {
      "text/plain": [
       "(tensor(450), tensor(450))"
      ]
     },
     "execution_count": 42,
     "metadata": {},
     "output_type": "execute_result"
    }
   ],
   "source": [
    "# Finding sum\n",
    "torch.sum(x), x.sum()"
   ]
  },
  {
   "cell_type": "code",
   "execution_count": 43,
   "id": "754327b3",
   "metadata": {
    "execution": {
     "iopub.execute_input": "2024-03-02T07:25:52.403071Z",
     "iopub.status.busy": "2024-03-02T07:25:52.402299Z",
     "iopub.status.idle": "2024-03-02T07:25:52.413761Z",
     "shell.execute_reply": "2024-03-02T07:25:52.412638Z"
    },
    "id": "bAv7V8JlTSNG",
    "outputId": "77ec0f92-e512-480f-f067-aa6b7926d181",
    "papermill": {
     "duration": 0.048829,
     "end_time": "2024-03-02T07:25:52.416575",
     "exception": false,
     "start_time": "2024-03-02T07:25:52.367746",
     "status": "completed"
    },
    "tags": []
   },
   "outputs": [
    {
     "data": {
      "text/plain": [
       "(tensor(0), tensor(9))"
      ]
     },
     "execution_count": 43,
     "metadata": {},
     "output_type": "execute_result"
    }
   ],
   "source": [
    "# Finding positional mean and max, just like indexing\n",
    "x.argmin(), x.argmax()"
   ]
  },
  {
   "cell_type": "markdown",
   "id": "0e633f52",
   "metadata": {
    "id": "N_h-x11ATYm5",
    "papermill": {
     "duration": 0.032648,
     "end_time": "2024-03-02T07:25:52.481705",
     "exception": false,
     "start_time": "2024-03-02T07:25:52.449057",
     "status": "completed"
    },
    "tags": []
   },
   "source": [
    "## Reshaping, stacking, squeezing, and unsqueezing tensor\n",
    "\n",
    "- Reshaping: reshapes an input tensor to a defined shape\n",
    "\n",
    "- View: Return a view of an input tensor of certain shape but keep the same memory as the original tensor\n",
    "\n",
    "- Stacking: Combine multiple tensors on top each other (vstack) or side by side (hstack)\n",
    "\n",
    "- Squeeze: removes all `1` dimensions from a tensor\n",
    "\n",
    "- Unsqueeze: add a `1` dimension to a target tensor\n",
    "\n",
    "- Permute: return a view of the input with dimensions permuted (swapped) in a certain way"
   ]
  },
  {
   "cell_type": "code",
   "execution_count": 44,
   "id": "26f6190e",
   "metadata": {
    "execution": {
     "iopub.execute_input": "2024-03-02T07:25:52.550293Z",
     "iopub.status.busy": "2024-03-02T07:25:52.549823Z",
     "iopub.status.idle": "2024-03-02T07:25:52.559720Z",
     "shell.execute_reply": "2024-03-02T07:25:52.558373Z"
    },
    "id": "nJCPJWQdhcv3",
    "outputId": "10d75bf5-e1b5-4748-9dd3-ccfbe16d5375",
    "papermill": {
     "duration": 0.047668,
     "end_time": "2024-03-02T07:25:52.562544",
     "exception": false,
     "start_time": "2024-03-02T07:25:52.514876",
     "status": "completed"
    },
    "tags": []
   },
   "outputs": [
    {
     "data": {
      "text/plain": [
       "(tensor([1., 2., 3., 4., 5., 6., 7., 8., 9.]), torch.Size([9]))"
      ]
     },
     "execution_count": 44,
     "metadata": {},
     "output_type": "execute_result"
    }
   ],
   "source": [
    "import torch\n",
    "x= torch.arange(1., 10.)\n",
    "x, x.shape"
   ]
  },
  {
   "cell_type": "code",
   "execution_count": 45,
   "id": "872eb84d",
   "metadata": {
    "execution": {
     "iopub.execute_input": "2024-03-02T07:25:52.630323Z",
     "iopub.status.busy": "2024-03-02T07:25:52.629835Z",
     "iopub.status.idle": "2024-03-02T07:25:52.639129Z",
     "shell.execute_reply": "2024-03-02T07:25:52.637735Z"
    },
    "id": "IbrkTWLVl2Wy",
    "outputId": "dcf6049e-c934-4e45-e88a-881343293bf1",
    "papermill": {
     "duration": 0.045865,
     "end_time": "2024-03-02T07:25:52.641546",
     "exception": false,
     "start_time": "2024-03-02T07:25:52.595681",
     "status": "completed"
    },
    "tags": []
   },
   "outputs": [
    {
     "data": {
      "text/plain": [
       "(tensor([[1., 2., 3., 4., 5., 6., 7., 8., 9.]]), torch.Size([1, 9]))"
      ]
     },
     "execution_count": 45,
     "metadata": {},
     "output_type": "execute_result"
    }
   ],
   "source": [
    "# Add an extra dimension\n",
    "# x_reshaped= x.reshape(1, 7) # This will produce an error\n",
    "x_reshaped= x.reshape(1, 9) # This will not produce an error\n",
    "x_reshaped, x_reshaped.shape"
   ]
  },
  {
   "cell_type": "code",
   "execution_count": 46,
   "id": "827fe5fa",
   "metadata": {
    "execution": {
     "iopub.execute_input": "2024-03-02T07:25:52.710703Z",
     "iopub.status.busy": "2024-03-02T07:25:52.710265Z",
     "iopub.status.idle": "2024-03-02T07:25:52.719961Z",
     "shell.execute_reply": "2024-03-02T07:25:52.718664Z"
    },
    "id": "Ceh4yYpimdwx",
    "outputId": "b8bbdcc7-0a55-4c61-a700-0d3359ba4c8a",
    "papermill": {
     "duration": 0.047726,
     "end_time": "2024-03-02T07:25:52.722807",
     "exception": false,
     "start_time": "2024-03-02T07:25:52.675081",
     "status": "completed"
    },
    "tags": []
   },
   "outputs": [
    {
     "data": {
      "text/plain": [
       "(tensor([[1., 2., 3., 4., 5., 6., 7., 8., 9.]]), torch.Size([1, 9]))"
      ]
     },
     "execution_count": 46,
     "metadata": {},
     "output_type": "execute_result"
    }
   ],
   "source": [
    "x_reshaped= x.reshape(1, 9) # This will not produce an error\n",
    "x_reshaped, x_reshaped.shape"
   ]
  },
  {
   "cell_type": "code",
   "execution_count": 47,
   "id": "51c9e605",
   "metadata": {
    "execution": {
     "iopub.execute_input": "2024-03-02T07:25:52.791759Z",
     "iopub.status.busy": "2024-03-02T07:25:52.791324Z",
     "iopub.status.idle": "2024-03-02T07:25:52.799123Z",
     "shell.execute_reply": "2024-03-02T07:25:52.797914Z"
    },
    "id": "OlBAesqWonOW",
    "outputId": "a3745deb-e656-4ba8-e7fc-28b1ccfa479e",
    "papermill": {
     "duration": 0.045456,
     "end_time": "2024-03-02T07:25:52.801513",
     "exception": false,
     "start_time": "2024-03-02T07:25:52.756057",
     "status": "completed"
    },
    "tags": []
   },
   "outputs": [
    {
     "data": {
      "text/plain": [
       "(tensor([[1., 2., 3., 4., 5., 6., 7., 8., 9.]]), torch.Size([1, 9]))"
      ]
     },
     "execution_count": 47,
     "metadata": {},
     "output_type": "execute_result"
    }
   ],
   "source": [
    "# Change the view\n",
    "z= x.view(1, 9) # REMEMBER THAT Z SHARE THE SAME MEMORY AS X, CHANGING X ALSO CHANGING Z, VICE VERSA\n",
    "z, z.shape"
   ]
  },
  {
   "cell_type": "code",
   "execution_count": 48,
   "id": "95eeb421",
   "metadata": {
    "execution": {
     "iopub.execute_input": "2024-03-02T07:25:52.869798Z",
     "iopub.status.busy": "2024-03-02T07:25:52.869327Z",
     "iopub.status.idle": "2024-03-02T07:25:52.881079Z",
     "shell.execute_reply": "2024-03-02T07:25:52.879789Z"
    },
    "id": "muzESey1qrHY",
    "outputId": "9dfa51dd-fff0-4ee3-917f-6fae56cd072e",
    "papermill": {
     "duration": 0.049347,
     "end_time": "2024-03-02T07:25:52.883949",
     "exception": false,
     "start_time": "2024-03-02T07:25:52.834602",
     "status": "completed"
    },
    "tags": []
   },
   "outputs": [
    {
     "data": {
      "text/plain": [
       "(tensor([[5., 2., 3., 4., 5., 6., 7., 8., 9.]]),\n",
       " tensor([5., 2., 3., 4., 5., 6., 7., 8., 9.]))"
      ]
     },
     "execution_count": 48,
     "metadata": {},
     "output_type": "execute_result"
    }
   ],
   "source": [
    "z[:, 0]= 5\n",
    "z, x"
   ]
  },
  {
   "cell_type": "code",
   "execution_count": 49,
   "id": "04166812",
   "metadata": {
    "execution": {
     "iopub.execute_input": "2024-03-02T07:25:52.954138Z",
     "iopub.status.busy": "2024-03-02T07:25:52.952966Z",
     "iopub.status.idle": "2024-03-02T07:25:52.967763Z",
     "shell.execute_reply": "2024-03-02T07:25:52.966352Z"
    },
    "id": "W9Ck7pB4q2vU",
    "outputId": "6d96c16e-e343-486b-a77f-263d9b5031e2",
    "papermill": {
     "duration": 0.052817,
     "end_time": "2024-03-02T07:25:52.970731",
     "exception": false,
     "start_time": "2024-03-02T07:25:52.917914",
     "status": "completed"
    },
    "tags": []
   },
   "outputs": [
    {
     "data": {
      "text/plain": [
       "tensor([[5., 2., 3., 4., 5., 6., 7., 8., 9.],\n",
       "        [5., 2., 3., 4., 5., 6., 7., 8., 9.],\n",
       "        [5., 2., 3., 4., 5., 6., 7., 8., 9.],\n",
       "        [5., 2., 3., 4., 5., 6., 7., 8., 9.]])"
      ]
     },
     "execution_count": 49,
     "metadata": {},
     "output_type": "execute_result"
    }
   ],
   "source": [
    "# Stack tensors on top of each other\n",
    "x_stacked= torch.stack([x, x, x, x], dim= 0)\n",
    "x_stacked"
   ]
  },
  {
   "cell_type": "code",
   "execution_count": 50,
   "id": "9b42b51f",
   "metadata": {
    "execution": {
     "iopub.execute_input": "2024-03-02T07:25:53.042778Z",
     "iopub.status.busy": "2024-03-02T07:25:53.042266Z",
     "iopub.status.idle": "2024-03-02T07:25:53.050912Z",
     "shell.execute_reply": "2024-03-02T07:25:53.049629Z"
    },
    "id": "kTR7dHnrrzEk",
    "outputId": "5c8df9d8-197f-404f-b86d-7fbac4369f0d",
    "papermill": {
     "duration": 0.048858,
     "end_time": "2024-03-02T07:25:53.053575",
     "exception": false,
     "start_time": "2024-03-02T07:25:53.004717",
     "status": "completed"
    },
    "tags": []
   },
   "outputs": [
    {
     "name": "stdout",
     "output_type": "stream",
     "text": [
      "Previous tensor: tensor([[5., 2., 3., 4., 5., 6., 7., 8., 9.]])\n",
      "\n",
      "Previous shape: torch.Size([1, 9])\n",
      "====================\n",
      "\n",
      "New tensor: tensor([5., 2., 3., 4., 5., 6., 7., 8., 9.])\n",
      "\n",
      "New shape: torch.Size([9])\n"
     ]
    }
   ],
   "source": [
    "# torch.squeeze() - Remove all single dimension target from a target vector\n",
    "print(f\"Previous tensor: {x_reshaped}\")\n",
    "print(f\"\\nPrevious shape: {x_reshaped.shape}\")\n",
    "print('='*20)\n",
    "\n",
    "# Remove extra dimension from x_reshaped\n",
    "x_squeezed= x_reshaped.squeeze()\n",
    "print(f\"\\nNew tensor: {x_squeezed}\")\n",
    "print(f\"\\nNew shape: {x_squeezed.shape}\")"
   ]
  },
  {
   "cell_type": "code",
   "execution_count": 51,
   "id": "1bfae149",
   "metadata": {
    "execution": {
     "iopub.execute_input": "2024-03-02T07:25:53.123780Z",
     "iopub.status.busy": "2024-03-02T07:25:53.123297Z",
     "iopub.status.idle": "2024-03-02T07:25:53.132218Z",
     "shell.execute_reply": "2024-03-02T07:25:53.130933Z"
    },
    "id": "XWpnhjUytbkM",
    "outputId": "67321a52-a184-47a1-dc99-90e2b7d426c6",
    "papermill": {
     "duration": 0.047208,
     "end_time": "2024-03-02T07:25:53.134689",
     "exception": false,
     "start_time": "2024-03-02T07:25:53.087481",
     "status": "completed"
    },
    "tags": []
   },
   "outputs": [
    {
     "name": "stdout",
     "output_type": "stream",
     "text": [
      "Previous target: tensor([5., 2., 3., 4., 5., 6., 7., 8., 9.])\n",
      "Previous shape: torch.Size([9])\n",
      "\n",
      "New tensor: tensor([[5., 2., 3., 4., 5., 6., 7., 8., 9.]])\n",
      "New shape: torch.Size([1, 9])\n"
     ]
    }
   ],
   "source": [
    "# Unsqueeze\n",
    "# torch.unsqueeze() - Adds a single dimension to a target tensor at a specific dimension\n",
    "print(f'Previous target: {x_squeezed}')\n",
    "print(f'Previous shape: {x_squeezed.shape}')\n",
    "\n",
    "# Add extra dim with unsqueeze\n",
    "x_unsqueezed= x_squeezed.unsqueeze(dim= 0)\n",
    "print(f'\\nNew tensor: {x_unsqueezed}')\n",
    "print(f'New shape: {x_unsqueezed.shape}')"
   ]
  },
  {
   "cell_type": "code",
   "execution_count": 52,
   "id": "8f4e7f36",
   "metadata": {
    "execution": {
     "iopub.execute_input": "2024-03-02T07:25:53.205219Z",
     "iopub.status.busy": "2024-03-02T07:25:53.203947Z",
     "iopub.status.idle": "2024-03-02T07:25:53.214808Z",
     "shell.execute_reply": "2024-03-02T07:25:53.213258Z"
    },
    "id": "8OrOPX87IvYr",
    "papermill": {
     "duration": 0.049283,
     "end_time": "2024-03-02T07:25:53.217646",
     "exception": false,
     "start_time": "2024-03-02T07:25:53.168363",
     "status": "completed"
    },
    "tags": []
   },
   "outputs": [
    {
     "name": "stdout",
     "output_type": "stream",
     "text": [
      "Previous shape: torch.Size([224, 224, 3])\n",
      "New shape: torch.Size([3, 224, 224])\n"
     ]
    }
   ],
   "source": [
    "# torch.permute - rearranges the dimensions of a target tensor at a specified order\n",
    "# Remember that it returns a view of the original tensor input, with its dimension permuted\n",
    "\n",
    "# Commonly used in images\n",
    "x_original= torch.rand(size= (224, 224, 3)) # [Height, width, color_channel]\n",
    "\n",
    "# Permute the original tensor to rearrange the axis (or dim) order\n",
    "x_permuted= x_original.permute(2, 0, 1) # Shifts axis 0->1, 1-> 2, 2-> 0\n",
    "print(f'Previous shape: {x_original.shape}')\n",
    "print(f'New shape: {x_permuted.shape}') # [color_channel, height, width]"
   ]
  },
  {
   "cell_type": "markdown",
   "id": "c4bb0715",
   "metadata": {
    "papermill": {
     "duration": 0.033943,
     "end_time": "2024-03-02T07:25:53.286652",
     "exception": false,
     "start_time": "2024-03-02T07:25:53.252709",
     "status": "completed"
    },
    "tags": []
   },
   "source": [
    "## Indexing (Selecting data from tensors)\n",
    "Indexing with torch is similar to numpy"
   ]
  },
  {
   "cell_type": "code",
   "execution_count": 53,
   "id": "48ee5ce8",
   "metadata": {
    "execution": {
     "iopub.execute_input": "2024-03-02T07:25:53.357197Z",
     "iopub.status.busy": "2024-03-02T07:25:53.356690Z",
     "iopub.status.idle": "2024-03-02T07:25:53.365949Z",
     "shell.execute_reply": "2024-03-02T07:25:53.364567Z"
    },
    "papermill": {
     "duration": 0.048909,
     "end_time": "2024-03-02T07:25:53.369845",
     "exception": false,
     "start_time": "2024-03-02T07:25:53.320936",
     "status": "completed"
    },
    "tags": []
   },
   "outputs": [
    {
     "data": {
      "text/plain": [
       "(tensor([[[1, 2, 3],\n",
       "          [4, 5, 6],\n",
       "          [7, 8, 9]]]),\n",
       " torch.Size([1, 3, 3]))"
      ]
     },
     "execution_count": 53,
     "metadata": {},
     "output_type": "execute_result"
    }
   ],
   "source": [
    "import torch\n",
    "x= torch.arange(1, 10).reshape(1, 3, 3)\n",
    "x, x.shape"
   ]
  },
  {
   "cell_type": "code",
   "execution_count": 54,
   "id": "7495a32f",
   "metadata": {
    "execution": {
     "iopub.execute_input": "2024-03-02T07:25:53.440991Z",
     "iopub.status.busy": "2024-03-02T07:25:53.440537Z",
     "iopub.status.idle": "2024-03-02T07:25:53.448386Z",
     "shell.execute_reply": "2024-03-02T07:25:53.447330Z"
    },
    "papermill": {
     "duration": 0.046915,
     "end_time": "2024-03-02T07:25:53.450926",
     "exception": false,
     "start_time": "2024-03-02T07:25:53.404011",
     "status": "completed"
    },
    "tags": []
   },
   "outputs": [
    {
     "data": {
      "text/plain": [
       "tensor([[1, 2, 3],\n",
       "        [4, 5, 6],\n",
       "        [7, 8, 9]])"
      ]
     },
     "execution_count": 54,
     "metadata": {},
     "output_type": "execute_result"
    }
   ],
   "source": [
    "# Lets index on our new tensor\n",
    "x[0]"
   ]
  },
  {
   "cell_type": "code",
   "execution_count": 55,
   "id": "a37ba1f1",
   "metadata": {
    "execution": {
     "iopub.execute_input": "2024-03-02T07:25:53.521141Z",
     "iopub.status.busy": "2024-03-02T07:25:53.520712Z",
     "iopub.status.idle": "2024-03-02T07:25:53.528042Z",
     "shell.execute_reply": "2024-03-02T07:25:53.527089Z"
    },
    "papermill": {
     "duration": 0.047469,
     "end_time": "2024-03-02T07:25:53.532504",
     "exception": false,
     "start_time": "2024-03-02T07:25:53.485035",
     "status": "completed"
    },
    "tags": []
   },
   "outputs": [
    {
     "data": {
      "text/plain": [
       "tensor([1, 2, 3])"
      ]
     },
     "execution_count": 55,
     "metadata": {},
     "output_type": "execute_result"
    }
   ],
   "source": [
    "# Index on the middle bracket (dim= 1)\n",
    "x[0][0]"
   ]
  },
  {
   "cell_type": "code",
   "execution_count": 56,
   "id": "1fff9d57",
   "metadata": {
    "execution": {
     "iopub.execute_input": "2024-03-02T07:25:53.608096Z",
     "iopub.status.busy": "2024-03-02T07:25:53.607238Z",
     "iopub.status.idle": "2024-03-02T07:25:53.614549Z",
     "shell.execute_reply": "2024-03-02T07:25:53.613353Z"
    },
    "papermill": {
     "duration": 0.047529,
     "end_time": "2024-03-02T07:25:53.617381",
     "exception": false,
     "start_time": "2024-03-02T07:25:53.569852",
     "status": "completed"
    },
    "tags": []
   },
   "outputs": [
    {
     "data": {
      "text/plain": [
       "tensor(2)"
      ]
     },
     "execution_count": 56,
     "metadata": {},
     "output_type": "execute_result"
    }
   ],
   "source": [
    "# Lets index on the most inner bracket(last dimension)\n",
    "x[0][0][1]"
   ]
  },
  {
   "cell_type": "code",
   "execution_count": 57,
   "id": "bbd2ed3a",
   "metadata": {
    "execution": {
     "iopub.execute_input": "2024-03-02T07:25:53.690346Z",
     "iopub.status.busy": "2024-03-02T07:25:53.688977Z",
     "iopub.status.idle": "2024-03-02T07:25:53.697834Z",
     "shell.execute_reply": "2024-03-02T07:25:53.696557Z"
    },
    "papermill": {
     "duration": 0.048107,
     "end_time": "2024-03-02T07:25:53.700561",
     "exception": false,
     "start_time": "2024-03-02T07:25:53.652454",
     "status": "completed"
    },
    "tags": []
   },
   "outputs": [
    {
     "data": {
      "text/plain": [
       "tensor([[2, 5, 8]])"
      ]
     },
     "execution_count": 57,
     "metadata": {},
     "output_type": "execute_result"
    }
   ],
   "source": [
    "# We can use ':' to select 'all' of a target dimension\n",
    "x[:, :, 1]"
   ]
  },
  {
   "cell_type": "markdown",
   "id": "45cc41a2",
   "metadata": {
    "papermill": {
     "duration": 0.035411,
     "end_time": "2024-03-02T07:25:53.770797",
     "exception": false,
     "start_time": "2024-03-02T07:25:53.735386",
     "status": "completed"
    },
    "tags": []
   },
   "source": [
    "## PyTorch tensors & Numpy\n",
    "Numpy is a popular scientific Python numerical computing library.\n",
    "\n",
    "* Data in numpy, want in Pytorch tensor -> `torch.from_numpy(ndarray)`\n",
    "* Pytorch tensor -> Numpy -> `torch.Tensor.numpy()`"
   ]
  },
  {
   "cell_type": "code",
   "execution_count": 58,
   "id": "74db7c8c",
   "metadata": {
    "execution": {
     "iopub.execute_input": "2024-03-02T07:25:53.842817Z",
     "iopub.status.busy": "2024-03-02T07:25:53.842008Z",
     "iopub.status.idle": "2024-03-02T07:25:53.854751Z",
     "shell.execute_reply": "2024-03-02T07:25:53.853337Z"
    },
    "papermill": {
     "duration": 0.052311,
     "end_time": "2024-03-02T07:25:53.857731",
     "exception": false,
     "start_time": "2024-03-02T07:25:53.805420",
     "status": "completed"
    },
    "tags": []
   },
   "outputs": [
    {
     "data": {
      "text/plain": [
       "(array([1., 2., 3., 4., 5., 6., 7.]),\n",
       " tensor([1., 2., 3., 4., 5., 6., 7.], dtype=torch.float64))"
      ]
     },
     "execution_count": 58,
     "metadata": {},
     "output_type": "execute_result"
    }
   ],
   "source": [
    "# Numpy array to tensor\n",
    "import torch\n",
    "import numpy as np\n",
    "\n",
    "array= np.arange(1.0, 8.0)\n",
    "tensor= torch.from_numpy(array) # Remember thaat when converting from np-> torch, pytorch reflect np default dtype of float64 unless specified otherwise\n",
    "array, tensor"
   ]
  },
  {
   "cell_type": "code",
   "execution_count": 59,
   "id": "ffac1b7f",
   "metadata": {
    "execution": {
     "iopub.execute_input": "2024-03-02T07:25:53.930041Z",
     "iopub.status.busy": "2024-03-02T07:25:53.929334Z",
     "iopub.status.idle": "2024-03-02T07:25:53.936714Z",
     "shell.execute_reply": "2024-03-02T07:25:53.935528Z"
    },
    "papermill": {
     "duration": 0.046859,
     "end_time": "2024-03-02T07:25:53.939463",
     "exception": false,
     "start_time": "2024-03-02T07:25:53.892604",
     "status": "completed"
    },
    "tags": []
   },
   "outputs": [
    {
     "data": {
      "text/plain": [
       "dtype('float64')"
      ]
     },
     "execution_count": 59,
     "metadata": {},
     "output_type": "execute_result"
    }
   ],
   "source": [
    "array.dtype"
   ]
  },
  {
   "cell_type": "code",
   "execution_count": 60,
   "id": "43b1311f",
   "metadata": {
    "execution": {
     "iopub.execute_input": "2024-03-02T07:25:54.012321Z",
     "iopub.status.busy": "2024-03-02T07:25:54.011582Z",
     "iopub.status.idle": "2024-03-02T07:25:54.017489Z",
     "shell.execute_reply": "2024-03-02T07:25:54.016520Z"
    },
    "papermill": {
     "duration": 0.045511,
     "end_time": "2024-03-02T07:25:54.020003",
     "exception": false,
     "start_time": "2024-03-02T07:25:53.974492",
     "status": "completed"
    },
    "tags": []
   },
   "outputs": [
    {
     "data": {
      "text/plain": [
       "torch.float64"
      ]
     },
     "execution_count": 60,
     "metadata": {},
     "output_type": "execute_result"
    }
   ],
   "source": [
    "tensor.dtype"
   ]
  },
  {
   "cell_type": "code",
   "execution_count": 61,
   "id": "3901f10c",
   "metadata": {
    "execution": {
     "iopub.execute_input": "2024-03-02T07:25:54.093831Z",
     "iopub.status.busy": "2024-03-02T07:25:54.092868Z",
     "iopub.status.idle": "2024-03-02T07:25:54.100682Z",
     "shell.execute_reply": "2024-03-02T07:25:54.099525Z"
    },
    "papermill": {
     "duration": 0.047376,
     "end_time": "2024-03-02T07:25:54.103139",
     "exception": false,
     "start_time": "2024-03-02T07:25:54.055763",
     "status": "completed"
    },
    "tags": []
   },
   "outputs": [
    {
     "data": {
      "text/plain": [
       "(array([2., 3., 4., 5., 6., 7., 8.]),\n",
       " tensor([1., 2., 3., 4., 5., 6., 7.], dtype=torch.float64))"
      ]
     },
     "execution_count": 61,
     "metadata": {},
     "output_type": "execute_result"
    }
   ],
   "source": [
    "# Change the value of the array\n",
    "array= array+ 1\n",
    "array, tensor"
   ]
  },
  {
   "cell_type": "code",
   "execution_count": 62,
   "id": "d1866546",
   "metadata": {
    "execution": {
     "iopub.execute_input": "2024-03-02T07:25:54.178721Z",
     "iopub.status.busy": "2024-03-02T07:25:54.178248Z",
     "iopub.status.idle": "2024-03-02T07:25:54.187854Z",
     "shell.execute_reply": "2024-03-02T07:25:54.186563Z"
    },
    "papermill": {
     "duration": 0.050297,
     "end_time": "2024-03-02T07:25:54.190327",
     "exception": false,
     "start_time": "2024-03-02T07:25:54.140030",
     "status": "completed"
    },
    "tags": []
   },
   "outputs": [
    {
     "data": {
      "text/plain": [
       "(tensor([1., 1., 1., 1., 1., 1., 1.]),\n",
       " array([1., 1., 1., 1., 1., 1., 1.], dtype=float32))"
      ]
     },
     "execution_count": 62,
     "metadata": {},
     "output_type": "execute_result"
    }
   ],
   "source": [
    "# Tensor to np array\n",
    "tensor= torch.ones(7)\n",
    "numpy_tensor= tensor.numpy()\n",
    "tensor, numpy_tensor"
   ]
  },
  {
   "cell_type": "code",
   "execution_count": 63,
   "id": "6c59e912",
   "metadata": {
    "execution": {
     "iopub.execute_input": "2024-03-02T07:25:54.264115Z",
     "iopub.status.busy": "2024-03-02T07:25:54.262875Z",
     "iopub.status.idle": "2024-03-02T07:25:54.272327Z",
     "shell.execute_reply": "2024-03-02T07:25:54.271120Z"
    },
    "papermill": {
     "duration": 0.049049,
     "end_time": "2024-03-02T07:25:54.274931",
     "exception": false,
     "start_time": "2024-03-02T07:25:54.225882",
     "status": "completed"
    },
    "tags": []
   },
   "outputs": [
    {
     "data": {
      "text/plain": [
       "(tensor([2., 2., 2., 2., 2., 2., 2.]),\n",
       " array([1., 1., 1., 1., 1., 1., 1.], dtype=float32))"
      ]
     },
     "execution_count": 63,
     "metadata": {},
     "output_type": "execute_result"
    }
   ],
   "source": [
    "# Change the tensor, what happens to `numpy_tensor`\n",
    "tensor= tensor+ 1\n",
    "tensor, numpy_tensor"
   ]
  },
  {
   "cell_type": "markdown",
   "id": "80a12af3",
   "metadata": {
    "papermill": {
     "duration": 0.035296,
     "end_time": "2024-03-02T07:25:54.345834",
     "exception": false,
     "start_time": "2024-03-02T07:25:54.310538",
     "status": "completed"
    },
    "tags": []
   },
   "source": [
    "## Reproducibility (Trying to take random out of random)\n",
    "\n",
    "In short, how NN works:\n",
    "\n",
    "* `start with random numbers -> tensor operations -> update random numbers to try and make them better representations of the data -> again -> again -> again...`\n",
    "\n",
    "To reduce the randomness in neural networks, and Pytorch, comes the concept of a **random seed**.\n",
    "\n",
    "What it does, is 'flavour' the randomness."
   ]
  },
  {
   "cell_type": "code",
   "execution_count": 64,
   "id": "49a5e995",
   "metadata": {
    "execution": {
     "iopub.execute_input": "2024-03-02T07:25:54.421287Z",
     "iopub.status.busy": "2024-03-02T07:25:54.420429Z",
     "iopub.status.idle": "2024-03-02T07:25:54.430390Z",
     "shell.execute_reply": "2024-03-02T07:25:54.428670Z"
    },
    "papermill": {
     "duration": 0.050061,
     "end_time": "2024-03-02T07:25:54.432910",
     "exception": false,
     "start_time": "2024-03-02T07:25:54.382849",
     "status": "completed"
    },
    "tags": []
   },
   "outputs": [
    {
     "name": "stdout",
     "output_type": "stream",
     "text": [
      "tensor([[0.4955, 0.3656, 0.7584, 0.6195],\n",
      "        [0.2204, 0.9374, 0.8312, 0.7930],\n",
      "        [0.3078, 0.7792, 0.7825, 0.3025]])\n",
      "tensor([[0.2951, 0.3823, 0.7993, 0.8043],\n",
      "        [0.3769, 0.1312, 0.2787, 0.0678],\n",
      "        [0.9504, 0.0052, 0.9177, 0.7741]])\n",
      "tensor([[False, False, False, False],\n",
      "        [False, False, False, False],\n",
      "        [False, False, False, False]])\n"
     ]
    }
   ],
   "source": [
    "import torch\n",
    "\n",
    "random_tensor_A= torch.rand(3, 4)\n",
    "random_tensor_B= torch.rand(3, 4)\n",
    "\n",
    "print(random_tensor_A)\n",
    "print(random_tensor_B)\n",
    "print(random_tensor_A == random_tensor_B)"
   ]
  },
  {
   "cell_type": "code",
   "execution_count": 65,
   "id": "54848a24",
   "metadata": {
    "execution": {
     "iopub.execute_input": "2024-03-02T07:25:54.508074Z",
     "iopub.status.busy": "2024-03-02T07:25:54.507611Z",
     "iopub.status.idle": "2024-03-02T07:25:54.521538Z",
     "shell.execute_reply": "2024-03-02T07:25:54.520188Z"
    },
    "papermill": {
     "duration": 0.055693,
     "end_time": "2024-03-02T07:25:54.524592",
     "exception": false,
     "start_time": "2024-03-02T07:25:54.468899",
     "status": "completed"
    },
    "tags": []
   },
   "outputs": [
    {
     "name": "stdout",
     "output_type": "stream",
     "text": [
      "tensor([[0.8823, 0.9150, 0.3829, 0.9593],\n",
      "        [0.3904, 0.6009, 0.2566, 0.7936],\n",
      "        [0.9408, 0.1332, 0.9346, 0.5936]])\n",
      "tensor([[0.8823, 0.9150, 0.3829, 0.9593],\n",
      "        [0.3904, 0.6009, 0.2566, 0.7936],\n",
      "        [0.9408, 0.1332, 0.9346, 0.5936]])\n",
      "tensor([[True, True, True, True],\n",
      "        [True, True, True, True],\n",
      "        [True, True, True, True]])\n"
     ]
    }
   ],
   "source": [
    "# Creating some random, but reproducible tensor\n",
    "\n",
    "# Setting the seed\n",
    "RANDOM_SEED= 42\n",
    "\n",
    "torch.manual_seed(RANDOM_SEED) # When using manual seed, only works for one block of code\n",
    "random_tensor_C= torch.rand(3, 4)\n",
    "\n",
    "torch.manual_seed(RANDOM_SEED) # If we dont put this here, the RANDOM_SEED only affect C, while D is not\n",
    "random_tensor_D= torch.rand(3, 4)\n",
    "\n",
    "print(random_tensor_C)\n",
    "print(random_tensor_D)\n",
    "print(random_tensor_C == random_tensor_D)"
   ]
  },
  {
   "cell_type": "markdown",
   "id": "402f5a56",
   "metadata": {
    "papermill": {
     "duration": 0.035897,
     "end_time": "2024-03-02T07:25:54.596733",
     "exception": false,
     "start_time": "2024-03-02T07:25:54.560836",
     "status": "completed"
    },
    "tags": []
   },
   "source": [
    "Extra resources:\n",
    "* https://pytorch.org/docs/stable/notes/randomness.html\n",
    "* https://en.wikipedia.org/wiki/Pseudorandomness#:~:text=A%20pseudorandom%20sequence%20of%20numbers,completely%20deterministic%20and%20repeatable%20process."
   ]
  },
  {
   "cell_type": "markdown",
   "id": "4fe0b951",
   "metadata": {
    "papermill": {
     "duration": 0.03567,
     "end_time": "2024-03-02T07:25:54.669106",
     "exception": false,
     "start_time": "2024-03-02T07:25:54.633436",
     "status": "completed"
    },
    "tags": []
   },
   "source": [
    "## Running tensors and PyTorch Objects on the GPUs (and making faster computation)\n",
    "\n",
    "GPU = faster computation on numbers, thanks to CUDA + NVIDIA hardware + PyTorch working behind the scenes to make everything good."
   ]
  },
  {
   "cell_type": "code",
   "execution_count": 66,
   "id": "23474a4f",
   "metadata": {
    "execution": {
     "iopub.execute_input": "2024-03-02T07:25:54.745337Z",
     "iopub.status.busy": "2024-03-02T07:25:54.743928Z",
     "iopub.status.idle": "2024-03-02T07:25:54.752868Z",
     "shell.execute_reply": "2024-03-02T07:25:54.751394Z"
    },
    "papermill": {
     "duration": 0.050491,
     "end_time": "2024-03-02T07:25:54.755644",
     "exception": false,
     "start_time": "2024-03-02T07:25:54.705153",
     "status": "completed"
    },
    "tags": []
   },
   "outputs": [
    {
     "data": {
      "text/plain": [
       "False"
      ]
     },
     "execution_count": 66,
     "metadata": {},
     "output_type": "execute_result"
    }
   ],
   "source": [
    "# How to check if available GPU\n",
    "import torch\n",
    "torch.cuda.is_available()"
   ]
  },
  {
   "cell_type": "markdown",
   "id": "d23d5b51",
   "metadata": {
    "papermill": {
     "duration": 0.035583,
     "end_time": "2024-03-02T07:25:54.827530",
     "exception": false,
     "start_time": "2024-03-02T07:25:54.791947",
     "status": "completed"
    },
    "tags": []
   },
   "source": [
    "For torch, since it is capable of running compute on the GPU or CPU, it is best practice to setup device agnostic code: https://pytorch.org/docs/stable/notes/cuda.html\n",
    "\n",
    "E.g. run on GPU if available, else default to CPU"
   ]
  },
  {
   "cell_type": "code",
   "execution_count": 67,
   "id": "db6d0132",
   "metadata": {
    "execution": {
     "iopub.execute_input": "2024-03-02T07:25:54.901676Z",
     "iopub.status.busy": "2024-03-02T07:25:54.901253Z",
     "iopub.status.idle": "2024-03-02T07:25:54.907845Z",
     "shell.execute_reply": "2024-03-02T07:25:54.906915Z"
    },
    "papermill": {
     "duration": 0.046993,
     "end_time": "2024-03-02T07:25:54.910404",
     "exception": false,
     "start_time": "2024-03-02T07:25:54.863411",
     "status": "completed"
    },
    "tags": []
   },
   "outputs": [
    {
     "data": {
      "text/plain": [
       "'cpu'"
      ]
     },
     "execution_count": 67,
     "metadata": {},
     "output_type": "execute_result"
    }
   ],
   "source": [
    "# Setup device agnostic code\n",
    "device = \"cuda\" if torch.cuda.is_available() else \"cpu\"\n",
    "device"
   ]
  },
  {
   "cell_type": "code",
   "execution_count": 68,
   "id": "9cc9ecc6",
   "metadata": {
    "execution": {
     "iopub.execute_input": "2024-03-02T07:25:54.984996Z",
     "iopub.status.busy": "2024-03-02T07:25:54.984502Z",
     "iopub.status.idle": "2024-03-02T07:25:54.991670Z",
     "shell.execute_reply": "2024-03-02T07:25:54.990717Z"
    },
    "papermill": {
     "duration": 0.047208,
     "end_time": "2024-03-02T07:25:54.993953",
     "exception": false,
     "start_time": "2024-03-02T07:25:54.946745",
     "status": "completed"
    },
    "tags": []
   },
   "outputs": [
    {
     "data": {
      "text/plain": [
       "0"
      ]
     },
     "execution_count": 68,
     "metadata": {},
     "output_type": "execute_result"
    }
   ],
   "source": [
    "# Count number of devices\n",
    "torch.cuda.device_count()"
   ]
  },
  {
   "cell_type": "code",
   "execution_count": 69,
   "id": "f8414b76",
   "metadata": {
    "execution": {
     "iopub.execute_input": "2024-03-02T07:25:55.070229Z",
     "iopub.status.busy": "2024-03-02T07:25:55.069766Z",
     "iopub.status.idle": "2024-03-02T07:25:55.077607Z",
     "shell.execute_reply": "2024-03-02T07:25:55.076098Z"
    },
    "papermill": {
     "duration": 0.049637,
     "end_time": "2024-03-02T07:25:55.080594",
     "exception": false,
     "start_time": "2024-03-02T07:25:55.030957",
     "status": "completed"
    },
    "tags": []
   },
   "outputs": [
    {
     "name": "stdout",
     "output_type": "stream",
     "text": [
      "tensor([1, 2, 3]) cpu\n"
     ]
    }
   ],
   "source": [
    "## Putting tensors (and models) on the GPU\n",
    "tensor= torch.tensor([1, 2, 3])\n",
    "\n",
    "# Tensor not on GPU\n",
    "print(tensor, tensor.device)"
   ]
  },
  {
   "cell_type": "code",
   "execution_count": 70,
   "id": "3a3d16dd",
   "metadata": {
    "execution": {
     "iopub.execute_input": "2024-03-02T07:25:55.156388Z",
     "iopub.status.busy": "2024-03-02T07:25:55.155914Z",
     "iopub.status.idle": "2024-03-02T07:25:55.163599Z",
     "shell.execute_reply": "2024-03-02T07:25:55.162626Z"
    },
    "papermill": {
     "duration": 0.04851,
     "end_time": "2024-03-02T07:25:55.165933",
     "exception": false,
     "start_time": "2024-03-02T07:25:55.117423",
     "status": "completed"
    },
    "tags": []
   },
   "outputs": [
    {
     "data": {
      "text/plain": [
       "tensor([1, 2, 3])"
      ]
     },
     "execution_count": 70,
     "metadata": {},
     "output_type": "execute_result"
    }
   ],
   "source": [
    "# Move tensor to GPU (if available)\n",
    "tensor_on_gpu= tensor.to(device)\n",
    "tensor_on_gpu"
   ]
  },
  {
   "cell_type": "code",
   "execution_count": 71,
   "id": "965ee15d",
   "metadata": {
    "execution": {
     "iopub.execute_input": "2024-03-02T07:25:55.242146Z",
     "iopub.status.busy": "2024-03-02T07:25:55.241688Z",
     "iopub.status.idle": "2024-03-02T07:25:55.246579Z",
     "shell.execute_reply": "2024-03-02T07:25:55.245401Z"
    },
    "papermill": {
     "duration": 0.045955,
     "end_time": "2024-03-02T07:25:55.249139",
     "exception": false,
     "start_time": "2024-03-02T07:25:55.203184",
     "status": "completed"
    },
    "tags": []
   },
   "outputs": [],
   "source": [
    "# if tensor on GPU, cannot transform to np\n",
    "# tensor_on_gpu.numpy() # This will error\n",
    "\n",
    "# Call this first\n",
    "# tensor_back_on_cpu= tensor_on_gpu.cpu().numpy()\n"
   ]
  },
  {
   "cell_type": "code",
   "execution_count": null,
   "id": "158c0a5f",
   "metadata": {
    "papermill": {
     "duration": 0.036709,
     "end_time": "2024-03-02T07:25:55.322782",
     "exception": false,
     "start_time": "2024-03-02T07:25:55.286073",
     "status": "completed"
    },
    "tags": []
   },
   "outputs": [],
   "source": []
  }
 ],
 "metadata": {
  "colab": {
   "provenance": []
  },
  "kaggle": {
   "accelerator": "none",
   "dataSources": [],
   "dockerImageVersionId": 30664,
   "isGpuEnabled": false,
   "isInternetEnabled": true,
   "language": "python",
   "sourceType": "notebook"
  },
  "kernelspec": {
   "display_name": "Python 3",
   "language": "python",
   "name": "python3"
  },
  "language_info": {
   "codemirror_mode": {
    "name": "ipython",
    "version": 3
   },
   "file_extension": ".py",
   "mimetype": "text/x-python",
   "name": "python",
   "nbconvert_exporter": "python",
   "pygments_lexer": "ipython3",
   "version": "3.10.13"
  },
  "papermill": {
   "default_parameters": {},
   "duration": 16.274265,
   "end_time": "2024-03-02T07:25:56.384721",
   "environment_variables": {},
   "exception": null,
   "input_path": "__notebook__.ipynb",
   "output_path": "__notebook__.ipynb",
   "parameters": {},
   "start_time": "2024-03-02T07:25:40.110456",
   "version": "2.5.0"
  }
 },
 "nbformat": 4,
 "nbformat_minor": 5
}
